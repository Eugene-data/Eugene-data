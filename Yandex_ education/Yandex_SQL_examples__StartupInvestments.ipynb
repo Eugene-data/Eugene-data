{
  "nbformat": 4,
  "nbformat_minor": 0,
  "metadata": {
    "colab": {
      "provenance": []
    },
    "kernelspec": {
      "name": "python3",
      "display_name": "Python 3"
    },
    "language_info": {
      "name": "python"
    }
  },
  "cells": [
    {
      "cell_type": "markdown",
      "source": [
        "https://pictures.s3.yandex.net/resources/1_Baza_dannykh_1673427255.png - диаграмма базы данных"
      ],
      "metadata": {
        "id": "qGpBbNNnwoqw"
      }
    },
    {
      "cell_type": "code",
      "source": [
        "# 1.Посчитайте, сколько компаний закрылось."
      ],
      "metadata": {
        "id": "CZIhA2lXwrzs"
      },
      "execution_count": null,
      "outputs": []
    },
    {
      "cell_type": "code",
      "source": [
        "'''\n",
        "SELECT count(status)\n",
        "FROM company\n",
        "WHERE status = 'closed'\n",
        "'''"
      ],
      "metadata": {
        "id": "on5VoFhdw2JM"
      },
      "execution_count": null,
      "outputs": []
    },
    {
      "cell_type": "code",
      "source": [
        "# 2.Отобразите количество привлечённых средств для новостных компаний США. Используйте данные из таблицы company. Отсортируйте таблицу по убыванию значений в поле funding_total ."
      ],
      "metadata": {
        "id": "IP4_Wl0mw6ku"
      },
      "execution_count": null,
      "outputs": []
    },
    {
      "cell_type": "code",
      "source": [
        "'''\n",
        "SELECT funding_total\n",
        "FROM company\n",
        "WHERE category_code = 'news' AND country_code = 'USA'\n",
        "ORDER BY funding_total DESC\n",
        "'''"
      ],
      "metadata": {
        "id": "CWFoekUow_zS"
      },
      "execution_count": null,
      "outputs": []
    },
    {
      "cell_type": "code",
      "source": [
        "# 3.Найдите общую сумму сделок по покупке одних компаний другими в долларах. Отберите сделки, которые осуществлялись только за наличные с 2011 по 2013 год включительно."
      ],
      "metadata": {
        "id": "RHfgbPGiw_9j"
      },
      "execution_count": null,
      "outputs": []
    },
    {
      "cell_type": "code",
      "source": [
        "'''\n",
        "SELECT sum(price_amount)\n",
        "FROM acquisition\n",
        "WHERE term_code = 'cash' AND acquired_at BETWEEN '2011-01-01' AND '2013-12-31'\n",
        "'''"
      ],
      "metadata": {
        "id": "-mQTNRovxABa"
      },
      "execution_count": null,
      "outputs": []
    },
    {
      "cell_type": "code",
      "source": [
        "# 4.Отобразите имя, фамилию и названия аккаунтов людей в твиттере, у которых названия аккаунтов начинаются на 'Silver'."
      ],
      "metadata": {
        "id": "6BOuZYAxxAEh"
      },
      "execution_count": null,
      "outputs": []
    },
    {
      "cell_type": "code",
      "source": [
        "'''\n",
        "SELECT first_name, last_name, twitter_username\n",
        "FROM people\n",
        "WHERE twitter_username LIKE 'Silver%'\n",
        "'''"
      ],
      "metadata": {
        "id": "dAK6UuctxAHq"
      },
      "execution_count": null,
      "outputs": []
    },
    {
      "cell_type": "code",
      "source": [
        "# 5.Выведите на экран всю информацию о людях, у которых названия аккаунтов в твиттере содержат подстроку 'money', а фамилия начинается на 'K'."
      ],
      "metadata": {
        "id": "S-QCLQbmxAKv"
      },
      "execution_count": null,
      "outputs": []
    },
    {
      "cell_type": "code",
      "source": [
        "'''\n",
        "SELECT *\n",
        "FROM people\n",
        "WHERE twitter_username LIKE '%money%'\n",
        "and last_name like 'K%'\n",
        "'''"
      ],
      "metadata": {
        "id": "hE5danzRxANy"
      },
      "execution_count": null,
      "outputs": []
    },
    {
      "cell_type": "code",
      "source": [
        "# 6.Для каждой страны отобразите общую сумму привлечённых инвестиций, которые получили компании, зарегистрированные в этой стране. \n",
        "# Страну, в которой зарегистрирована компания, можно определить по коду страны. Отсортируйте данные по убыванию суммы."
      ],
      "metadata": {
        "id": "KmBBjmulxAQo"
      },
      "execution_count": null,
      "outputs": []
    },
    {
      "cell_type": "code",
      "source": [
        "'''\n",
        "SELECT country_code,\n",
        "       sum(funding_total)\n",
        "FROM company\n",
        "GROUP BY country_code\n",
        "ORDER BY sum(funding_total) DESC\n",
        "'''"
      ],
      "metadata": {
        "id": "eiufiJnVxATi"
      },
      "execution_count": null,
      "outputs": []
    },
    {
      "cell_type": "code",
      "source": [
        "# 7.Составьте таблицу, в которую войдёт дата проведения раунда, а также минимальное и максимальное значения суммы инвестиций, привлечённых в эту дату.\n",
        "# Оставьте в итоговой таблице только те записи, в которых минимальное значение суммы инвестиций не равно нулю и не равно максимальному значению."
      ],
      "metadata": {
        "id": "QAG1xsihxAZD"
      },
      "execution_count": null,
      "outputs": []
    },
    {
      "cell_type": "code",
      "source": [
        "'''\n",
        "SELECT funded_at,\n",
        "      min(raised_amount),\n",
        "      max(raised_amount)\n",
        "FROM funding_round\n",
        "GROUP BY funded_at\n",
        "HAVING min(raised_amount) <> 0 AND min(raised_amount) <> max(raised_amount);\n",
        "'''"
      ],
      "metadata": {
        "id": "VNYjmxVvxAWM"
      },
      "execution_count": null,
      "outputs": []
    },
    {
      "cell_type": "code",
      "source": [
        "# 8.Создайте поле с категориями:\n",
        "# Для фондов, которые инвестируют в 100 и более компаний, назначьте категорию high_activity.\n",
        "# Для фондов, которые инвестируют в 20 и более компаний до 100, назначьте категорию middle_activity.\n",
        "# Если количество инвестируемых компаний фонда не достигает 20, назначьте категорию low_activity.\n",
        "# Отобразите все поля таблицы fund и новое поле с категориями."
      ],
      "metadata": {
        "id": "u4RLrGTwxAb5"
      },
      "execution_count": null,
      "outputs": []
    },
    {
      "cell_type": "code",
      "source": [
        "'''\n",
        "SELECT *  ,\n",
        "CASE \n",
        "    WHEN invested_companies > 100 THEN 'high_activity'\n",
        "    WHEN invested_companies BETWEEN 20 AND 100 THEN 'middle_activity'\n",
        "    WHEN invested_companies < 20 THEN 'low_activity'\n",
        "    END\n",
        "FROM fund\n",
        "'''"
      ],
      "metadata": {
        "id": "0-MZIHRqx3iE"
      },
      "execution_count": null,
      "outputs": []
    },
    {
      "cell_type": "code",
      "source": [
        "# 9.\n",
        "# Для каждой из категорий, назначенных в предыдущем задании, посчитайте округлённое до ближайшего целого числа среднее количество инвестиционных раундов, в которых фонд принимал участие. \n",
        "# Выведите на экран категории и среднее число инвестиционных раундов. Отсортируйте таблицу по возрастанию среднего."
      ],
      "metadata": {
        "id": "p_E_fvvwyAMQ"
      },
      "execution_count": null,
      "outputs": []
    },
    {
      "cell_type": "code",
      "source": [
        "'''\n",
        "SELECT \n",
        "       CASE\n",
        "           WHEN invested_companies>=100 THEN 'high_activity'\n",
        "           WHEN invested_companies>=20 THEN 'middle_activity'\n",
        "           ELSE 'low_activity'\n",
        "       END AS activity,\n",
        "       ROUND(AVG(investment_rounds)) \n",
        "FROM fund\n",
        "GROUP BY activity\n",
        "ORDER BY ROUND(AVG(investment_rounds));\n",
        "'''"
      ],
      "metadata": {
        "id": "vYybF8T0x3oO"
      },
      "execution_count": null,
      "outputs": []
    },
    {
      "cell_type": "code",
      "source": [
        "# 10.\n",
        "# Проанализируйте, в каких странах находятся фонды, которые чаще всего инвестируют в стартапы. \n",
        "# Для каждой страны посчитайте минимальное, максимальное и среднее число компаний, в которые инвестировали фонды этой страны, основанные с 2010 по 2012 год включительно. Исключите страны с фондами, у которых минимальное число компаний, получивших инвестиции, равно нулю. Выгрузите десять самых активных стран-инвесторов.\n",
        "# Отсортируйте таблицу по среднему количеству компаний от большего к меньшему, а затем по коду страны в лексикографическом порядке."
      ],
      "metadata": {
        "id": "gihqNlw_x3r0"
      },
      "execution_count": null,
      "outputs": []
    },
    {
      "cell_type": "code",
      "source": [
        "'''\n",
        "SELECT country_code,\n",
        "               MIN(invested_companies),\n",
        "                MAX(invested_companies),\n",
        "                AVG(invested_companies)\n",
        "FROM fund \n",
        "WHERE founded_at BETWEEN '2010-01-01' and '2012-12-31'\n",
        "GROUP BY country_code\n",
        "HAVING MIN(invested_companies) <> 0\n",
        "ORDER BY AVG(invested_companies) DESC, country_code\n",
        "LIMIT 10\n",
        "'''"
      ],
      "metadata": {
        "id": "04QyDA1_x3u5"
      },
      "execution_count": null,
      "outputs": []
    },
    {
      "cell_type": "code",
      "source": [
        "# 11.Отобразите имя и фамилию всех сотрудников стартапов. Добавьте поле с названием учебного заведения, которое окончил сотрудник, если эта информация известна."
      ],
      "metadata": {
        "id": "72ZzO11Ux3x7"
      },
      "execution_count": null,
      "outputs": []
    },
    {
      "cell_type": "code",
      "source": [
        "'''\n",
        "SELECT p.first_name, p.last_name, e.instituition \n",
        "FROM people AS p\n",
        "LEFT JOIN education AS e ON p.id = e.person_id\n",
        "'''"
      ],
      "metadata": {
        "id": "BRejUO5px303"
      },
      "execution_count": null,
      "outputs": []
    },
    {
      "cell_type": "code",
      "source": [
        "# 12.Для каждой компании найдите количество учебных заведений, которые окончили её сотрудники. Выведите название компании и число уникальных названий учебных заведений. \n",
        "# Составьте топ-5 компаний по количеству университетов."
      ],
      "metadata": {
        "id": "5GgO9c_8x33r"
      },
      "execution_count": null,
      "outputs": []
    },
    {
      "cell_type": "code",
      "source": [
        "'''\n",
        "SELECT c.name,\n",
        "        count(distinct e.instituition)\n",
        "FROM education as e\n",
        "LEFT JOIN people as p on e.person_id  = p.id\n",
        "LEFT JOIN company as c on p.company_id = c.id\n",
        "GROUP BY c.name\n",
        "ORDER BY count(e.instituition) desc\n",
        "LIMIT 5 OFFSET 1;\n",
        "'''"
      ],
      "metadata": {
        "id": "KbaNUNRYx36v"
      },
      "execution_count": null,
      "outputs": []
    },
    {
      "cell_type": "code",
      "source": [
        "# 13.Составьте список с уникальными названиями закрытых компаний, для которых первый раунд финансирования оказался последним."
      ],
      "metadata": {
        "id": "UYXpkoiXx39v"
      },
      "execution_count": null,
      "outputs": []
    },
    {
      "cell_type": "code",
      "source": [
        "'''\n",
        "SELECT distinct c.name\n",
        "FROM company as c\n",
        "LEFT JOIN funding_round as f on c.id = f.company_id \n",
        "WHERE c.status = 'closed' AND is_first_round = is_last_round\n",
        "'''"
      ],
      "metadata": {
        "id": "Cu6buBD6yd6I"
      },
      "execution_count": null,
      "outputs": []
    },
    {
      "cell_type": "code",
      "source": [
        "# 14.Составьте список уникальных номеров сотрудников, которые работают в компаниях, отобранных в предыдущем задании."
      ],
      "metadata": {
        "id": "DdO98Cq9yeA3"
      },
      "execution_count": null,
      "outputs": []
    },
    {
      "cell_type": "code",
      "source": [
        "'''\n",
        "SELECT p.id\n",
        "FROM people AS p\n",
        "LEFT JOIN company as c ON c.id = p.company_id\n",
        "WHERE c.name in (SELECT distinct c.name\n",
        "FROM company as c\n",
        "LEFT JOIN funding_round as f on c.id = f.company_id \n",
        "WHERE c.status = 'closed' AND (is_first_round = 1 AND is_last_round = 1))\n",
        "'''"
      ],
      "metadata": {
        "id": "hQ__qM_hyeEx"
      },
      "execution_count": null,
      "outputs": []
    },
    {
      "cell_type": "code",
      "source": [
        "# 15.Составьте таблицу, куда войдут уникальные пары с номерами сотрудников из предыдущей задачи и учебным заведением, которое окончил сотрудник."
      ],
      "metadata": {
        "id": "MVXNEo2pyeID"
      },
      "execution_count": null,
      "outputs": []
    },
    {
      "cell_type": "code",
      "source": [
        "'''\n",
        "SELECT distinct p.id,\n",
        "       e.instituition\n",
        "FROM people AS p\n",
        "LEFT JOIN  company as c ON c.id = p.company_id\n",
        "LEFT JOIN education as e ON e.person_id = p.id\n",
        "WHERE c.name in (SELECT distinct c.name\n",
        "FROM company as c\n",
        "LEFT JOIN funding_round as f on c.id = f.company_id \n",
        "WHERE c.status = 'closed' AND (is_first_round = 1 AND is_last_round = 1))\n",
        "AND e.instituition IS NOT NULL\n",
        "'''"
      ],
      "metadata": {
        "id": "fVlON6lhyeLT"
      },
      "execution_count": null,
      "outputs": []
    },
    {
      "cell_type": "code",
      "source": [
        "#  16.Посчитайте количество учебных заведений для каждого сотрудника из предыдущего задания. При подсчёте учитывайте, что некоторые сотрудники могли окончить одно и то же заведение дважды."
      ],
      "metadata": {
        "id": "7Uv3tDxpyeOY"
      },
      "execution_count": null,
      "outputs": []
    },
    {
      "cell_type": "code",
      "source": [
        "'''\n",
        "SELECT p.id,\n",
        "      count(e.instituition)\n",
        "FROM people AS p\n",
        "LEFT JOIN company as c ON c.id = p.company_id\n",
        "LEFT JOIN education as e ON e.person_id = p.id\n",
        "WHERE c.name in (SELECT distinct c.name\n",
        "FROM company as c\n",
        "LEFT JOIN funding_round as f on c.id = f.company_id \n",
        "WHERE c.status = 'closed' AND (is_first_round = 1 AND is_last_round = 1))\n",
        "AND e.instituition IS NOT NULL\n",
        "GROUP BY p.id\n",
        "'''"
      ],
      "metadata": {
        "id": "cs11XLgtyeRw"
      },
      "execution_count": null,
      "outputs": []
    },
    {
      "cell_type": "code",
      "source": [
        "# 17.Дополните предыдущий запрос и выведите среднее число учебных заведений (всех, не только уникальных), которые окончили сотрудники разных компаний.\n",
        "#  Нужно вывести только одну запись, группировка здесь не понадобится."
      ],
      "metadata": {
        "id": "5lGfrG1ryeUe"
      },
      "execution_count": null,
      "outputs": []
    },
    {
      "cell_type": "code",
      "source": [
        "'''\n",
        "SELECT AVG(i.count_instituition)\n",
        "FROM (SELECT p.id,\n",
        "      count(e.instituition) AS count_instituition\n",
        "FROM people AS p\n",
        "LEFT JOIN company as c ON c.id = p.company_id\n",
        "LEFT JOIN education as e ON e.person_id = p.id\n",
        "WHERE c.name in (SELECT distinct c.name\n",
        "FROM company as c\n",
        "LEFT JOIN funding_round as f on c.id = f.company_id \n",
        "WHERE c.status = 'closed' AND (is_first_round = 1 AND is_last_round = 1))\n",
        "AND e.instituition IS NOT NULL\n",
        "GROUP BY p.id) AS i;\n",
        "'''"
      ],
      "metadata": {
        "id": "nm4kAaqqy5IB"
      },
      "execution_count": null,
      "outputs": []
    },
    {
      "cell_type": "code",
      "source": [
        "# 18.Напишите похожий запрос: выведите среднее число учебных заведений (всех, не только уникальных), которые окончили сотрудники Facebook*."
      ],
      "metadata": {
        "id": "Vqt1kwYGy5M_"
      },
      "execution_count": null,
      "outputs": []
    },
    {
      "cell_type": "code",
      "source": [
        "'''\n",
        "SELECT AVG(i.count_instituition)\n",
        "FROM (\n",
        "    SELECT p.id,\n",
        "      count(e.instituition) AS count_instituition\n",
        "FROM people AS p\n",
        "LEFT JOIN company as c ON c.id = p.company_id\n",
        "LEFT JOIN education as e ON e.person_id = p.id\n",
        "WHERE c.name = 'Facebook'\n",
        "GROUP BY p.id\n",
        "HAVING count(e.instituition) <> 0\n",
        ") AS i;\n",
        "'''"
      ],
      "metadata": {
        "id": "D3kR92sXy5QW"
      },
      "execution_count": null,
      "outputs": []
    },
    {
      "cell_type": "code",
      "source": [
        "# 19.Составьте таблицу из полей:\n",
        "# name_of_fund — название фонда;\n",
        "# name_of_company — название компании;\n",
        "# amount — сумма инвестиций, которую привлекла компания в раунде.\n",
        "# В таблицу войдут данные о компаниях, в истории которых было больше шести важных этапов, а раунды финансирования проходили с 2012 по 2013 год включительно."
      ],
      "metadata": {
        "id": "mM2JLBXsy5Tv"
      },
      "execution_count": null,
      "outputs": []
    },
    {
      "cell_type": "code",
      "source": [
        "'''\n",
        "SELECT f.name as name_of_fund,\n",
        "       c.name as name_of_company,\n",
        "       fr.raised_amount as amount\n",
        "FROM investment as i\n",
        "LEFT JOIN company as c on i.company_id = c.id\n",
        "LEFT JOIN fund as f on i.fund_id = f.id\n",
        "INNER JOIN (select * from funding_round where funded_at between '2012-01-01' and '2013-12-31') as fr \n",
        "on i.funding_round_id = fr.id\n",
        "WHERE c.milestones > 6 ;\n",
        "'''"
      ],
      "metadata": {
        "id": "mkiELl3Jy5ad"
      },
      "execution_count": null,
      "outputs": []
    },
    {
      "cell_type": "code",
      "source": [
        "# 20.Выгрузите таблицу, в которой будут такие поля:\n",
        "# название компании-покупателя;\n",
        "# сумма сделки;\n",
        "# название компании, которую купили;\n",
        "# сумма инвестиций, вложенных в купленную компанию;\n",
        "# доля, которая отображает, во сколько раз сумма покупки превысила сумму вложенных в компанию инвестиций, округлённая до ближайшего целого числа.\n",
        "# Не учитывайте те сделки, в которых сумма покупки равна нулю. Если сумма инвестиций в компанию равна нулю, исключите такую компанию из таблицы. \n",
        "# Отсортируйте таблицу по сумме сделки от большей к меньшей, а затем по названию купленной компании в лексикографическом порядке. Ограничьте таблицу первыми десятью записями."
      ],
      "metadata": {
        "id": "AJxhjDX3zX75"
      },
      "execution_count": null,
      "outputs": []
    },
    {
      "cell_type": "code",
      "source": [
        "'''\n",
        "SELECT buyer.name AS buyer_company,\n",
        "       ac.price_amount,\n",
        "       seller.name AS seller_company,\n",
        "       seller.funding_total,\n",
        "       round(ac.price_amount/seller.funding_total)\n",
        "FROM acquisition as ac\n",
        "LEFT JOIN company as buyer on ac.acquiring_company_id = buyer.id\n",
        "LEFT JOIN company as seller on ac.acquired_company_id = seller.id\n",
        "WHERE ac.price_amount <> 0 and seller.funding_total > 0\n",
        "ORDER BY ac.price_amount desc, seller_company\n",
        "LIMIT 10\n",
        "'''"
      ],
      "metadata": {
        "id": "HSgBQxAxzYB9"
      },
      "execution_count": null,
      "outputs": []
    },
    {
      "cell_type": "code",
      "source": [
        "# 21.Выгрузите таблицу, в которую войдут названия компаний из категории social, получившие финансирование с 2010 по 2013 год включительно. \n",
        "# Проверьте, что сумма инвестиций не равна нулю. Выведите также номер месяца, в котором проходил раунд финансирования."
      ],
      "metadata": {
        "id": "S9lHSPbrzYG2"
      },
      "execution_count": null,
      "outputs": []
    },
    {
      "cell_type": "code",
      "source": [
        "'''\n",
        "SELECT c.name,\n",
        "       extract(MONTH FROM fr.funded_at)\n",
        "FROM company as c\n",
        "LEFT JOIN funding_round as fr on c.id = fr.company_id\n",
        "WHERE (c.category_code = 'social')\n",
        "and (fr.funded_at between '2010-01-01' and '2013-12-31')\n",
        "and (fr.raised_amount <> 0)\n",
        "'''"
      ],
      "metadata": {
        "id": "ieFmq6x0zYKo"
      },
      "execution_count": null,
      "outputs": []
    },
    {
      "cell_type": "code",
      "source": [
        "# 22.Отберите данные по месяцам с 2010 по 2013 год, когда проходили инвестиционные раунды. Сгруппируйте данные по номеру месяца и получите таблицу, в которой будут поля:\n",
        "# номер месяца, в котором проходили раунды;\n",
        "# количество уникальных названий фондов из США, которые инвестировали в этом месяце;\n",
        "# количество компаний, купленных за этот месяц;\n",
        "# общая сумма сделок по покупкам в этом месяце."
      ],
      "metadata": {
        "id": "jke07LulzYPA"
      },
      "execution_count": null,
      "outputs": []
    },
    {
      "cell_type": "code",
      "source": [
        "'''\n",
        "WITH\n",
        "-- выбираем месяц инвестиционных раундов в 2010-2013 гг\n",
        "tab1 AS (SELECT EXTRACT(MONTH FROM funded_at) AS month,\n",
        "                id AS funding_round_id\n",
        "                FROM funding_round\n",
        "         WHERE EXTRACT(YEAR FROM funded_at) BETWEEN 2010 AND 2013\n",
        "         ),\n",
        "-- считаем кол-во купленных и общую сумму по сделкам за 2010-2013 гг в разрезе месяца\n",
        "tab2 AS (SELECT EXTRACT(MONTH FROM acquired_at) AS month,\n",
        "                COUNT(acquired_company_id) AS count_acquired,\n",
        "                SUM(price_amount) AS total_amount\n",
        "         FROM acquisition\n",
        "         WHERE EXTRACT(YEAR FROM acquired_at) BETWEEN 2010 AND 2013\n",
        "         GROUP BY EXTRACT(MONTH FROM acquired_at)\n",
        "        ),\n",
        "-- ищем фонды из США\n",
        "tab3 AS (SELECT i.funding_round_id,\n",
        "                f.name\n",
        "        FROM investment AS i\n",
        "        JOIN fund AS f ON f.id = i.fund_id\n",
        "        WHERE fund_id IN (SELECT id\n",
        "                          FROM fund\n",
        "                          WHERE country_code LIKE 'USA')\n",
        "        ),\n",
        "tab4 AS (SELECT month,\n",
        "                COUNT(DISTINCT name) AS count_USA\n",
        "         FROM tab1 \n",
        "         LEFT JOIN tab3 ON tab1.funding_round_id = tab3.funding_round_id\n",
        "         GROUP BY month)        \n",
        "SELECT tab4.month,\n",
        "       tab4.count_USA,\n",
        "       tab2.count_acquired,\n",
        "       tab2.total_amount\n",
        "FROM tab4 \n",
        "LEFT JOIN tab2 ON tab4.month = tab2.month;\n",
        "'''"
      ],
      "metadata": {
        "id": "HqSPHMJMzs1Z"
      },
      "execution_count": null,
      "outputs": []
    },
    {
      "cell_type": "code",
      "source": [
        "# 23.Составьте сводную таблицу и выведите среднюю сумму инвестиций для стран, в которых есть стартапы, зарегистрированные в 2011, 2012 и 2013 годах. \n",
        "# Данные за каждый год должны быть в отдельном поле. Отсортируйте таблицу по среднему значению инвестиций за 2011 год от большего к меньшему."
      ],
      "metadata": {
        "id": "7kBm0nRjzs6m"
      },
      "execution_count": null,
      "outputs": []
    },
    {
      "cell_type": "code",
      "source": [
        "'''\n",
        "WITH\n",
        "total_11 AS (SELECT AVG(funding_total) AS total_2011,\n",
        "                      country_code\n",
        "               FROM company\n",
        "               GROUP BY country_code,\n",
        "               EXTRACT(YEAR FROM founded_at)\n",
        "               HAVING EXTRACT(YEAR FROM founded_at) = 2011),              \n",
        "total_12 AS (SELECT AVG(funding_total) AS total_2012,\n",
        "                      country_code\n",
        "               FROM company\n",
        "               GROUP BY country_code,\n",
        "               EXTRACT(YEAR FROM founded_at)\n",
        "               HAVING EXTRACT(YEAR FROM founded_at) = 2012),\n",
        "total_13 AS (SELECT AVG(funding_total) AS total_2013,\n",
        "                      country_code\n",
        "               FROM company\n",
        "               GROUP BY country_code,\n",
        "               EXTRACT(YEAR FROM founded_at)\n",
        "               HAVING EXTRACT(YEAR FROM founded_at) = 2013)\n",
        "SELECT total_11.country_code,\n",
        "       total_11.total_2011,\n",
        "       total_12.total_2012,\n",
        "       total_13.total_2013\n",
        "FROM total_11 \n",
        "INNER JOIN total_12 ON total_11.country_code = total_12.country_code\n",
        "INNER JOIN total_13 ON total_11.country_code = total_13.country_code\n",
        "ORDER BY total_11.total_2011 DESC;\n",
        "'''"
      ],
      "metadata": {
        "id": "4hUmbv8mztBF"
      },
      "execution_count": null,
      "outputs": []
    }
  ]
}