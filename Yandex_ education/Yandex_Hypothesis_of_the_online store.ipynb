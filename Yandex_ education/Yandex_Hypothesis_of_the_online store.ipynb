{
 "cells": [
  {
   "cell_type": "markdown",
   "metadata": {
    "id": "6t5yU5jHIDam"
   },
   "source": [
    "# Анализ А/B теста интернет-магазина и приоритизация гипотез\n",
    "Вместе с отделом маркетинга мы подготовили список гипотез для увеличения выручки.\n",
    "\n",
    "\n",
    "*   Приоритизируем гипотезы\n",
    "*   Запустим A/B-тест и проанализируйте результаты\n",
    "\n",
    "\n",
    "## Предобработка данных"
   ]
  },
  {
   "cell_type": "code",
   "execution_count": 1,
   "metadata": {
    "id": "5pkMZwi1Doz7"
   },
   "outputs": [],
   "source": [
    "# Импортируем все необходимые библиотеки:\n",
    "import pandas as pd\n",
    "import matplotlib.pyplot as plt\n",
    "plt.style.use('ggplot')\n",
    "plt.rcParams ['figure.figsize'] = [15, 10]\n",
    "import numpy as np\n",
    "import seaborn as sns\n",
    "from datetime import datetime, timedelta\n",
    "import scipy.stats as stats\n",
    "import warnings\n",
    "warnings.filterwarnings('ignore')"
   ]
  },
  {
   "cell_type": "code",
   "execution_count": 2,
   "metadata": {
    "id": "KCcUFJk7DrJg"
   },
   "outputs": [],
   "source": [
    "# Загрузим файлы на gdrive, для удобства работы через Colab..\n",
    "# Путь к таблицам на gdrive\n",
    "# hypothesis\n",
    "# https://drive.google.com/file/d/1yT04ixmr4HWC8W-EPE81xvoMl052oCAe/view?usp=share_link\n",
    "# orders\n",
    "# https://drive.google.com/file/d/1kEsl4jQOHNUxANcNhuGMs2K3JkXXgYW2/view?usp=share_link\n",
    "# visitors\n",
    "# https://drive.google.com/file/d/1T0fPf2diielQ2imZxMOFBMlCIZd1wJX2/view?usp=share_link"
   ]
  },
  {
   "cell_type": "raw",
   "metadata": {
    "colab": {
     "base_uri": "https://localhost:8080/"
    },
    "id": "zRlxSdwUDrTX",
    "outputId": "14f00119-684f-43e2-eda6-d47242f34154"
   },
   "source": [
    "! gdown 1yT04ixmr4HWC8W-EPE81xvoMl052oCAe # \n",
    "! gdown 1kEsl4jQOHNUxANcNhuGMs2K3JkXXgYW2 # \n",
    "! gdown 1T0fPf2diielQ2imZxMOFBMlCIZd1wJX2 # подгружаем файлы с gdrive"
   ]
  },
  {
   "cell_type": "code",
   "execution_count": 3,
   "metadata": {
    "colab": {
     "base_uri": "https://localhost:8080/",
     "height": 540
    },
    "id": "QOG8G_akDrYX",
    "outputId": "af7bc563-7075-42ca-844e-54faca080ecb"
   },
   "outputs": [
    {
     "name": "stdout",
     "output_type": "stream",
     "text": [
      "<class 'pandas.core.frame.DataFrame'>\n",
      "RangeIndex: 9 entries, 0 to 8\n",
      "Data columns (total 5 columns):\n",
      " #   Column      Non-Null Count  Dtype \n",
      "---  ------      --------------  ----- \n",
      " 0   Hypothesis  9 non-null      object\n",
      " 1   Reach       9 non-null      int64 \n",
      " 2   Impact      9 non-null      int64 \n",
      " 3   Confidence  9 non-null      int64 \n",
      " 4   Efforts     9 non-null      int64 \n",
      "dtypes: int64(4), object(1)\n",
      "memory usage: 488.0+ bytes\n"
     ]
    },
    {
     "data": {
      "text/html": [
       "<div>\n",
       "<style scoped>\n",
       "    .dataframe tbody tr th:only-of-type {\n",
       "        vertical-align: middle;\n",
       "    }\n",
       "\n",
       "    .dataframe tbody tr th {\n",
       "        vertical-align: top;\n",
       "    }\n",
       "\n",
       "    .dataframe thead th {\n",
       "        text-align: right;\n",
       "    }\n",
       "</style>\n",
       "<table border=\"1\" class=\"dataframe\">\n",
       "  <thead>\n",
       "    <tr style=\"text-align: right;\">\n",
       "      <th></th>\n",
       "      <th>Hypothesis</th>\n",
       "      <th>Reach</th>\n",
       "      <th>Impact</th>\n",
       "      <th>Confidence</th>\n",
       "      <th>Efforts</th>\n",
       "    </tr>\n",
       "  </thead>\n",
       "  <tbody>\n",
       "    <tr>\n",
       "      <th>0</th>\n",
       "      <td>Добавить два новых канала привлечения трафика, что позволит привлекать на 30% больше пользователей</td>\n",
       "      <td>3</td>\n",
       "      <td>10</td>\n",
       "      <td>8</td>\n",
       "      <td>6</td>\n",
       "    </tr>\n",
       "    <tr>\n",
       "      <th>1</th>\n",
       "      <td>Запустить собственную службу доставки, что сократит срок доставки заказов</td>\n",
       "      <td>2</td>\n",
       "      <td>5</td>\n",
       "      <td>4</td>\n",
       "      <td>10</td>\n",
       "    </tr>\n",
       "    <tr>\n",
       "      <th>2</th>\n",
       "      <td>Добавить блоки рекомендаций товаров на сайт интернет магазина, чтобы повысить конверсию и средний чек заказа</td>\n",
       "      <td>8</td>\n",
       "      <td>3</td>\n",
       "      <td>7</td>\n",
       "      <td>3</td>\n",
       "    </tr>\n",
       "    <tr>\n",
       "      <th>3</th>\n",
       "      <td>Изменить структура категорий, что увеличит конверсию, т.к. пользователи быстрее найдут нужный товар</td>\n",
       "      <td>8</td>\n",
       "      <td>3</td>\n",
       "      <td>3</td>\n",
       "      <td>8</td>\n",
       "    </tr>\n",
       "    <tr>\n",
       "      <th>4</th>\n",
       "      <td>Изменить цвет фона главной страницы, чтобы увеличить вовлеченность пользователей</td>\n",
       "      <td>3</td>\n",
       "      <td>1</td>\n",
       "      <td>1</td>\n",
       "      <td>1</td>\n",
       "    </tr>\n",
       "    <tr>\n",
       "      <th>5</th>\n",
       "      <td>Добавить страницу отзывов клиентов о магазине, что позволит увеличить количество заказов</td>\n",
       "      <td>3</td>\n",
       "      <td>2</td>\n",
       "      <td>2</td>\n",
       "      <td>3</td>\n",
       "    </tr>\n",
       "    <tr>\n",
       "      <th>6</th>\n",
       "      <td>Показать на главной странице баннеры с актуальными акциями и распродажами, чтобы увеличить конверсию</td>\n",
       "      <td>5</td>\n",
       "      <td>3</td>\n",
       "      <td>8</td>\n",
       "      <td>3</td>\n",
       "    </tr>\n",
       "    <tr>\n",
       "      <th>7</th>\n",
       "      <td>Добавить форму подписки на все основные страницы, чтобы собрать базу клиентов для email-рассылок</td>\n",
       "      <td>10</td>\n",
       "      <td>7</td>\n",
       "      <td>8</td>\n",
       "      <td>5</td>\n",
       "    </tr>\n",
       "    <tr>\n",
       "      <th>8</th>\n",
       "      <td>Запустить акцию, дающую скидку на товар в день рождения</td>\n",
       "      <td>1</td>\n",
       "      <td>9</td>\n",
       "      <td>9</td>\n",
       "      <td>5</td>\n",
       "    </tr>\n",
       "  </tbody>\n",
       "</table>\n",
       "</div>"
      ],
      "text/plain": [
       "                                                                                                     Hypothesis  \\\n",
       "0            Добавить два новых канала привлечения трафика, что позволит привлекать на 30% больше пользователей   \n",
       "1                                     Запустить собственную службу доставки, что сократит срок доставки заказов   \n",
       "2  Добавить блоки рекомендаций товаров на сайт интернет магазина, чтобы повысить конверсию и средний чек заказа   \n",
       "3           Изменить структура категорий, что увеличит конверсию, т.к. пользователи быстрее найдут нужный товар   \n",
       "4                              Изменить цвет фона главной страницы, чтобы увеличить вовлеченность пользователей   \n",
       "5                      Добавить страницу отзывов клиентов о магазине, что позволит увеличить количество заказов   \n",
       "6          Показать на главной странице баннеры с актуальными акциями и распродажами, чтобы увеличить конверсию   \n",
       "7              Добавить форму подписки на все основные страницы, чтобы собрать базу клиентов для email-рассылок   \n",
       "8                                                       Запустить акцию, дающую скидку на товар в день рождения   \n",
       "\n",
       "   Reach  Impact  Confidence  Efforts  \n",
       "0      3      10           8        6  \n",
       "1      2       5           4       10  \n",
       "2      8       3           7        3  \n",
       "3      8       3           3        8  \n",
       "4      3       1           1        1  \n",
       "5      3       2           2        3  \n",
       "6      5       3           8        3  \n",
       "7     10       7           8        5  \n",
       "8      1       9           9        5  "
      ]
     },
     "execution_count": 3,
     "metadata": {},
     "output_type": "execute_result"
    }
   ],
   "source": [
    "# Сделаем универсальную загрузку чтобы работать через Colab и JupiterNotebook:\n",
    "\n",
    "try:\n",
    "    hypothesis, orders, visitors = (\n",
    "        pd.read_csv('/content/hypothesis.csv'),\n",
    "        pd.read_csv('/content/orders.csv'),\n",
    "        pd.read_csv('/content/visitors.csv')\n",
    "    )\n",
    "except:\n",
    "    hypothesis, orders, visitors = (\n",
    "        pd.read_csv('/datasets/hypothesis.csv'),\n",
    "        pd.read_csv('/datasets/orders.csv'),\n",
    "        pd.read_csv('/datasets/visitors.csv')\n",
    "    )\n",
    "pd.options.display.max_colwidth = 150\n",
    "hypothesis.info()\n",
    "hypothesis"
   ]
  },
  {
   "cell_type": "code",
   "execution_count": 4,
   "metadata": {
    "colab": {
     "base_uri": "https://localhost:8080/",
     "height": 632
    },
    "id": "wXqgpU3ART9i",
    "outputId": "6c237f30-950b-4fd5-b811-9044d8ad93e0"
   },
   "outputs": [
    {
     "name": "stdout",
     "output_type": "stream",
     "text": [
      "<class 'pandas.core.frame.DataFrame'>\n",
      "RangeIndex: 1197 entries, 0 to 1196\n",
      "Data columns (total 5 columns):\n",
      " #   Column         Non-Null Count  Dtype \n",
      "---  ------         --------------  ----- \n",
      " 0   transactionId  1197 non-null   int64 \n",
      " 1   visitorId      1197 non-null   int64 \n",
      " 2   date           1197 non-null   object\n",
      " 3   revenue        1197 non-null   int64 \n",
      " 4   group          1197 non-null   object\n",
      "dtypes: int64(3), object(2)\n",
      "memory usage: 46.9+ KB\n"
     ]
    },
    {
     "data": {
      "text/html": [
       "<div>\n",
       "<style scoped>\n",
       "    .dataframe tbody tr th:only-of-type {\n",
       "        vertical-align: middle;\n",
       "    }\n",
       "\n",
       "    .dataframe tbody tr th {\n",
       "        vertical-align: top;\n",
       "    }\n",
       "\n",
       "    .dataframe thead th {\n",
       "        text-align: right;\n",
       "    }\n",
       "</style>\n",
       "<table border=\"1\" class=\"dataframe\">\n",
       "  <thead>\n",
       "    <tr style=\"text-align: right;\">\n",
       "      <th></th>\n",
       "      <th>transactionId</th>\n",
       "      <th>visitorId</th>\n",
       "      <th>date</th>\n",
       "      <th>revenue</th>\n",
       "      <th>group</th>\n",
       "    </tr>\n",
       "  </thead>\n",
       "  <tbody>\n",
       "    <tr>\n",
       "      <th>0</th>\n",
       "      <td>3667963787</td>\n",
       "      <td>3312258926</td>\n",
       "      <td>2019-08-15</td>\n",
       "      <td>1650</td>\n",
       "      <td>B</td>\n",
       "    </tr>\n",
       "    <tr>\n",
       "      <th>1</th>\n",
       "      <td>2804400009</td>\n",
       "      <td>3642806036</td>\n",
       "      <td>2019-08-15</td>\n",
       "      <td>730</td>\n",
       "      <td>B</td>\n",
       "    </tr>\n",
       "    <tr>\n",
       "      <th>2</th>\n",
       "      <td>2961555356</td>\n",
       "      <td>4069496402</td>\n",
       "      <td>2019-08-15</td>\n",
       "      <td>400</td>\n",
       "      <td>A</td>\n",
       "    </tr>\n",
       "    <tr>\n",
       "      <th>3</th>\n",
       "      <td>3797467345</td>\n",
       "      <td>1196621759</td>\n",
       "      <td>2019-08-15</td>\n",
       "      <td>9759</td>\n",
       "      <td>B</td>\n",
       "    </tr>\n",
       "    <tr>\n",
       "      <th>4</th>\n",
       "      <td>2282983706</td>\n",
       "      <td>2322279887</td>\n",
       "      <td>2019-08-15</td>\n",
       "      <td>2308</td>\n",
       "      <td>B</td>\n",
       "    </tr>\n",
       "    <tr>\n",
       "      <th>...</th>\n",
       "      <td>...</td>\n",
       "      <td>...</td>\n",
       "      <td>...</td>\n",
       "      <td>...</td>\n",
       "      <td>...</td>\n",
       "    </tr>\n",
       "    <tr>\n",
       "      <th>1192</th>\n",
       "      <td>2662137336</td>\n",
       "      <td>3733762160</td>\n",
       "      <td>2019-08-14</td>\n",
       "      <td>6490</td>\n",
       "      <td>B</td>\n",
       "    </tr>\n",
       "    <tr>\n",
       "      <th>1193</th>\n",
       "      <td>2203539145</td>\n",
       "      <td>370388673</td>\n",
       "      <td>2019-08-14</td>\n",
       "      <td>3190</td>\n",
       "      <td>A</td>\n",
       "    </tr>\n",
       "    <tr>\n",
       "      <th>1194</th>\n",
       "      <td>1807773912</td>\n",
       "      <td>573423106</td>\n",
       "      <td>2019-08-14</td>\n",
       "      <td>10550</td>\n",
       "      <td>A</td>\n",
       "    </tr>\n",
       "    <tr>\n",
       "      <th>1195</th>\n",
       "      <td>1947021204</td>\n",
       "      <td>1614305549</td>\n",
       "      <td>2019-08-14</td>\n",
       "      <td>100</td>\n",
       "      <td>A</td>\n",
       "    </tr>\n",
       "    <tr>\n",
       "      <th>1196</th>\n",
       "      <td>3936777065</td>\n",
       "      <td>2108080724</td>\n",
       "      <td>2019-08-15</td>\n",
       "      <td>202740</td>\n",
       "      <td>B</td>\n",
       "    </tr>\n",
       "  </tbody>\n",
       "</table>\n",
       "<p>1197 rows × 5 columns</p>\n",
       "</div>"
      ],
      "text/plain": [
       "      transactionId   visitorId        date  revenue group\n",
       "0        3667963787  3312258926  2019-08-15     1650     B\n",
       "1        2804400009  3642806036  2019-08-15      730     B\n",
       "2        2961555356  4069496402  2019-08-15      400     A\n",
       "3        3797467345  1196621759  2019-08-15     9759     B\n",
       "4        2282983706  2322279887  2019-08-15     2308     B\n",
       "...             ...         ...         ...      ...   ...\n",
       "1192     2662137336  3733762160  2019-08-14     6490     B\n",
       "1193     2203539145   370388673  2019-08-14     3190     A\n",
       "1194     1807773912   573423106  2019-08-14    10550     A\n",
       "1195     1947021204  1614305549  2019-08-14      100     A\n",
       "1196     3936777065  2108080724  2019-08-15   202740     B\n",
       "\n",
       "[1197 rows x 5 columns]"
      ]
     },
     "execution_count": 4,
     "metadata": {},
     "output_type": "execute_result"
    }
   ],
   "source": [
    "orders.info()\n",
    "orders"
   ]
  },
  {
   "cell_type": "code",
   "execution_count": 5,
   "metadata": {
    "colab": {
     "base_uri": "https://localhost:8080/",
     "height": 597
    },
    "id": "BlNuFAR_RqFl",
    "outputId": "7808fee4-534a-4d2f-b2e8-74526dfe567f"
   },
   "outputs": [
    {
     "name": "stdout",
     "output_type": "stream",
     "text": [
      "<class 'pandas.core.frame.DataFrame'>\n",
      "RangeIndex: 62 entries, 0 to 61\n",
      "Data columns (total 3 columns):\n",
      " #   Column    Non-Null Count  Dtype \n",
      "---  ------    --------------  ----- \n",
      " 0   date      62 non-null     object\n",
      " 1   group     62 non-null     object\n",
      " 2   visitors  62 non-null     int64 \n",
      "dtypes: int64(1), object(2)\n",
      "memory usage: 1.6+ KB\n"
     ]
    },
    {
     "data": {
      "text/html": [
       "<div>\n",
       "<style scoped>\n",
       "    .dataframe tbody tr th:only-of-type {\n",
       "        vertical-align: middle;\n",
       "    }\n",
       "\n",
       "    .dataframe tbody tr th {\n",
       "        vertical-align: top;\n",
       "    }\n",
       "\n",
       "    .dataframe thead th {\n",
       "        text-align: right;\n",
       "    }\n",
       "</style>\n",
       "<table border=\"1\" class=\"dataframe\">\n",
       "  <thead>\n",
       "    <tr style=\"text-align: right;\">\n",
       "      <th></th>\n",
       "      <th>date</th>\n",
       "      <th>group</th>\n",
       "      <th>visitors</th>\n",
       "    </tr>\n",
       "  </thead>\n",
       "  <tbody>\n",
       "    <tr>\n",
       "      <th>0</th>\n",
       "      <td>2019-08-01</td>\n",
       "      <td>A</td>\n",
       "      <td>719</td>\n",
       "    </tr>\n",
       "    <tr>\n",
       "      <th>1</th>\n",
       "      <td>2019-08-02</td>\n",
       "      <td>A</td>\n",
       "      <td>619</td>\n",
       "    </tr>\n",
       "    <tr>\n",
       "      <th>2</th>\n",
       "      <td>2019-08-03</td>\n",
       "      <td>A</td>\n",
       "      <td>507</td>\n",
       "    </tr>\n",
       "    <tr>\n",
       "      <th>3</th>\n",
       "      <td>2019-08-04</td>\n",
       "      <td>A</td>\n",
       "      <td>717</td>\n",
       "    </tr>\n",
       "    <tr>\n",
       "      <th>4</th>\n",
       "      <td>2019-08-05</td>\n",
       "      <td>A</td>\n",
       "      <td>756</td>\n",
       "    </tr>\n",
       "    <tr>\n",
       "      <th>...</th>\n",
       "      <td>...</td>\n",
       "      <td>...</td>\n",
       "      <td>...</td>\n",
       "    </tr>\n",
       "    <tr>\n",
       "      <th>57</th>\n",
       "      <td>2019-08-27</td>\n",
       "      <td>B</td>\n",
       "      <td>720</td>\n",
       "    </tr>\n",
       "    <tr>\n",
       "      <th>58</th>\n",
       "      <td>2019-08-28</td>\n",
       "      <td>B</td>\n",
       "      <td>654</td>\n",
       "    </tr>\n",
       "    <tr>\n",
       "      <th>59</th>\n",
       "      <td>2019-08-29</td>\n",
       "      <td>B</td>\n",
       "      <td>531</td>\n",
       "    </tr>\n",
       "    <tr>\n",
       "      <th>60</th>\n",
       "      <td>2019-08-30</td>\n",
       "      <td>B</td>\n",
       "      <td>490</td>\n",
       "    </tr>\n",
       "    <tr>\n",
       "      <th>61</th>\n",
       "      <td>2019-08-31</td>\n",
       "      <td>B</td>\n",
       "      <td>718</td>\n",
       "    </tr>\n",
       "  </tbody>\n",
       "</table>\n",
       "<p>62 rows × 3 columns</p>\n",
       "</div>"
      ],
      "text/plain": [
       "          date group  visitors\n",
       "0   2019-08-01     A       719\n",
       "1   2019-08-02     A       619\n",
       "2   2019-08-03     A       507\n",
       "3   2019-08-04     A       717\n",
       "4   2019-08-05     A       756\n",
       "..         ...   ...       ...\n",
       "57  2019-08-27     B       720\n",
       "58  2019-08-28     B       654\n",
       "59  2019-08-29     B       531\n",
       "60  2019-08-30     B       490\n",
       "61  2019-08-31     B       718\n",
       "\n",
       "[62 rows x 3 columns]"
      ]
     },
     "execution_count": 5,
     "metadata": {},
     "output_type": "execute_result"
    }
   ],
   "source": [
    "visitors.info()\n",
    "visitors"
   ]
  },
  {
   "cell_type": "code",
   "execution_count": 6,
   "metadata": {
    "colab": {
     "base_uri": "https://localhost:8080/"
    },
    "id": "jI1vSY6kSzNa",
    "outputId": "b57fab0e-cff6-49df-e079-ba55908c6b3a"
   },
   "outputs": [
    {
     "name": "stdout",
     "output_type": "stream",
     "text": [
      "Количество дубликатов:0\n",
      "Количество дубликатов:0\n"
     ]
    }
   ],
   "source": [
    "# так же оценим наличие полных дубликатов в таблицах orders и visitors\n",
    "print(f'Количество дубликатов:{orders.duplicated().sum()}')\n",
    "print(f'Количество дубликатов:{visitors.duplicated().sum()}')"
   ]
  },
  {
   "cell_type": "markdown",
   "metadata": {
    "id": "NLGBEguKSfMH"
   },
   "source": [
    "На первый взгляд мы видим что данные датасеты прошли предобработку и не содержат дубликатов, однако некоторые типы данных не соответствуют ожидаемым(столбцы с датами имеют тип object), а так же некоторые столбцы содержат заглавные буквы в наименовании"
   ]
  },
  {
   "cell_type": "code",
   "execution_count": 7,
   "metadata": {
    "id": "wKX19I8KP0_r"
   },
   "outputs": [],
   "source": [
    "# приведем тип данных к date\n",
    "visitors['date'] = pd.to_datetime(visitors['date'])\n",
    "orders['date'] = pd.to_datetime(orders['date'])"
   ]
  },
  {
   "cell_type": "code",
   "execution_count": 8,
   "metadata": {
    "colab": {
     "base_uri": "https://localhost:8080/",
     "height": 52
    },
    "id": "XgnbswI6Vmnt",
    "outputId": "94628390-8bdd-4dff-ab9c-ea80c33ea2b3"
   },
   "outputs": [
    {
     "data": {
      "text/plain": [
       "Index(['hypothesis', 'reach', 'impact', 'confidence', 'efforts'], dtype='object')"
      ]
     },
     "metadata": {},
     "output_type": "display_data"
    },
    {
     "data": {
      "text/plain": [
       "Index(['transactionid', 'visitorid', 'date', 'revenue', 'group'], dtype='object')"
      ]
     },
     "execution_count": 8,
     "metadata": {},
     "output_type": "execute_result"
    }
   ],
   "source": [
    "# приведем к нижнему регистру\n",
    "hypothesis.columns = hypothesis.columns.str.lower()\n",
    "orders.columns = orders.columns.str.lower()\n",
    "display(hypothesis.columns)\n",
    "orders.columns"
   ]
  },
  {
   "cell_type": "markdown",
   "metadata": {
    "id": "PWiBFBN8R6md"
   },
   "source": [
    "## Часть 1. Приоритизация гипотез.\n",
    "У нас есть датасет с девятью гипотезами по увеличению выручки интернет-магазина\n",
    " - Hypothesis — краткое описание гипотезы;\n",
    " - Reach — охват пользователей по 10-балльной шкале;\n",
    " - Impact — влияние на пользователей по 10-балльной шкале;\n",
    " - Confidence — уверенность в гипотезе по 10-балльной шкале;\n",
    " - Efforts — затраты ресурсов на проверку гипотезы по 10-балльной шкале. Чем больше значение Efforts, тем дороже проверка гипотезы."
   ]
  },
  {
   "cell_type": "markdown",
   "metadata": {
    "id": "n-0K3qRMICC0"
   },
   "source": [
    "Применим фреймворк ICE для приоритизации гипотез. ICE (от англ. impact, confidence, effort / ease «влияние, уверенность, усилия / простота») — один из самых популярных способов приоритизации задач. Отсортируем их по убыванию приоритета."
   ]
  },
  {
   "cell_type": "code",
   "execution_count": 9,
   "metadata": {
    "colab": {
     "base_uri": "https://localhost:8080/",
     "height": 332
    },
    "id": "PGvNgJmbHKSQ",
    "outputId": "6f8af1dd-12a2-4794-d05d-8d0244e1860a"
   },
   "outputs": [
    {
     "data": {
      "text/html": [
       "<div>\n",
       "<style scoped>\n",
       "    .dataframe tbody tr th:only-of-type {\n",
       "        vertical-align: middle;\n",
       "    }\n",
       "\n",
       "    .dataframe tbody tr th {\n",
       "        vertical-align: top;\n",
       "    }\n",
       "\n",
       "    .dataframe thead th {\n",
       "        text-align: right;\n",
       "    }\n",
       "</style>\n",
       "<table border=\"1\" class=\"dataframe\">\n",
       "  <thead>\n",
       "    <tr style=\"text-align: right;\">\n",
       "      <th></th>\n",
       "      <th>hypothesis</th>\n",
       "      <th>ICE</th>\n",
       "    </tr>\n",
       "  </thead>\n",
       "  <tbody>\n",
       "    <tr>\n",
       "      <th>8</th>\n",
       "      <td>Запустить акцию, дающую скидку на товар в день рождения</td>\n",
       "      <td>16.200000</td>\n",
       "    </tr>\n",
       "    <tr>\n",
       "      <th>0</th>\n",
       "      <td>Добавить два новых канала привлечения трафика, что позволит привлекать на 30% больше пользователей</td>\n",
       "      <td>13.333333</td>\n",
       "    </tr>\n",
       "    <tr>\n",
       "      <th>7</th>\n",
       "      <td>Добавить форму подписки на все основные страницы, чтобы собрать базу клиентов для email-рассылок</td>\n",
       "      <td>11.200000</td>\n",
       "    </tr>\n",
       "    <tr>\n",
       "      <th>6</th>\n",
       "      <td>Показать на главной странице баннеры с актуальными акциями и распродажами, чтобы увеличить конверсию</td>\n",
       "      <td>8.000000</td>\n",
       "    </tr>\n",
       "    <tr>\n",
       "      <th>2</th>\n",
       "      <td>Добавить блоки рекомендаций товаров на сайт интернет магазина, чтобы повысить конверсию и средний чек заказа</td>\n",
       "      <td>7.000000</td>\n",
       "    </tr>\n",
       "    <tr>\n",
       "      <th>1</th>\n",
       "      <td>Запустить собственную службу доставки, что сократит срок доставки заказов</td>\n",
       "      <td>2.000000</td>\n",
       "    </tr>\n",
       "    <tr>\n",
       "      <th>5</th>\n",
       "      <td>Добавить страницу отзывов клиентов о магазине, что позволит увеличить количество заказов</td>\n",
       "      <td>1.333333</td>\n",
       "    </tr>\n",
       "    <tr>\n",
       "      <th>3</th>\n",
       "      <td>Изменить структура категорий, что увеличит конверсию, т.к. пользователи быстрее найдут нужный товар</td>\n",
       "      <td>1.125000</td>\n",
       "    </tr>\n",
       "    <tr>\n",
       "      <th>4</th>\n",
       "      <td>Изменить цвет фона главной страницы, чтобы увеличить вовлеченность пользователей</td>\n",
       "      <td>1.000000</td>\n",
       "    </tr>\n",
       "  </tbody>\n",
       "</table>\n",
       "</div>"
      ],
      "text/plain": [
       "                                                                                                     hypothesis  \\\n",
       "8                                                       Запустить акцию, дающую скидку на товар в день рождения   \n",
       "0            Добавить два новых канала привлечения трафика, что позволит привлекать на 30% больше пользователей   \n",
       "7              Добавить форму подписки на все основные страницы, чтобы собрать базу клиентов для email-рассылок   \n",
       "6          Показать на главной странице баннеры с актуальными акциями и распродажами, чтобы увеличить конверсию   \n",
       "2  Добавить блоки рекомендаций товаров на сайт интернет магазина, чтобы повысить конверсию и средний чек заказа   \n",
       "1                                     Запустить собственную службу доставки, что сократит срок доставки заказов   \n",
       "5                      Добавить страницу отзывов клиентов о магазине, что позволит увеличить количество заказов   \n",
       "3           Изменить структура категорий, что увеличит конверсию, т.к. пользователи быстрее найдут нужный товар   \n",
       "4                              Изменить цвет фона главной страницы, чтобы увеличить вовлеченность пользователей   \n",
       "\n",
       "         ICE  \n",
       "8  16.200000  \n",
       "0  13.333333  \n",
       "7  11.200000  \n",
       "6   8.000000  \n",
       "2   7.000000  \n",
       "1   2.000000  \n",
       "5   1.333333  \n",
       "3   1.125000  \n",
       "4   1.000000  "
      ]
     },
     "execution_count": 9,
     "metadata": {},
     "output_type": "execute_result"
    }
   ],
   "source": [
    "hypothesis['ICE'] = (hypothesis['impact']*hypothesis['confidence'])/hypothesis['efforts']  \n",
    "hypothesis[['hypothesis','ICE']].sort_values(by='ICE', ascending=False)"
   ]
  },
  {
   "cell_type": "markdown",
   "metadata": {
    "id": "G0Mbcxm9bQNM"
   },
   "source": [
    "Видим что гипотезы под номерами 8,0,7,6,2 имеют наибольший приоретет. Посмотрим на приоритизацию гипотез с помощью модификации RICE, учитывющую охват пользователей "
   ]
  },
  {
   "cell_type": "markdown",
   "metadata": {
    "id": "drDen4aBY-zY"
   },
   "source": [
    "Применим фреймворк RICE для приоритизации гипотез. Отсортируем их по убыванию приоритета."
   ]
  },
  {
   "cell_type": "code",
   "execution_count": 10,
   "metadata": {
    "id": "pyRxRjADHKcJ"
   },
   "outputs": [
    {
     "data": {
      "text/html": [
       "<div>\n",
       "<style scoped>\n",
       "    .dataframe tbody tr th:only-of-type {\n",
       "        vertical-align: middle;\n",
       "    }\n",
       "\n",
       "    .dataframe tbody tr th {\n",
       "        vertical-align: top;\n",
       "    }\n",
       "\n",
       "    .dataframe thead th {\n",
       "        text-align: right;\n",
       "    }\n",
       "</style>\n",
       "<table border=\"1\" class=\"dataframe\">\n",
       "  <thead>\n",
       "    <tr style=\"text-align: right;\">\n",
       "      <th></th>\n",
       "      <th>hypothesis</th>\n",
       "      <th>RICE</th>\n",
       "    </tr>\n",
       "  </thead>\n",
       "  <tbody>\n",
       "    <tr>\n",
       "      <th>7</th>\n",
       "      <td>Добавить форму подписки на все основные страницы, чтобы собрать базу клиентов для email-рассылок</td>\n",
       "      <td>112.0</td>\n",
       "    </tr>\n",
       "    <tr>\n",
       "      <th>2</th>\n",
       "      <td>Добавить блоки рекомендаций товаров на сайт интернет магазина, чтобы повысить конверсию и средний чек заказа</td>\n",
       "      <td>56.0</td>\n",
       "    </tr>\n",
       "    <tr>\n",
       "      <th>0</th>\n",
       "      <td>Добавить два новых канала привлечения трафика, что позволит привлекать на 30% больше пользователей</td>\n",
       "      <td>40.0</td>\n",
       "    </tr>\n",
       "    <tr>\n",
       "      <th>6</th>\n",
       "      <td>Показать на главной странице баннеры с актуальными акциями и распродажами, чтобы увеличить конверсию</td>\n",
       "      <td>40.0</td>\n",
       "    </tr>\n",
       "    <tr>\n",
       "      <th>8</th>\n",
       "      <td>Запустить акцию, дающую скидку на товар в день рождения</td>\n",
       "      <td>16.2</td>\n",
       "    </tr>\n",
       "    <tr>\n",
       "      <th>3</th>\n",
       "      <td>Изменить структура категорий, что увеличит конверсию, т.к. пользователи быстрее найдут нужный товар</td>\n",
       "      <td>9.0</td>\n",
       "    </tr>\n",
       "    <tr>\n",
       "      <th>1</th>\n",
       "      <td>Запустить собственную службу доставки, что сократит срок доставки заказов</td>\n",
       "      <td>4.0</td>\n",
       "    </tr>\n",
       "    <tr>\n",
       "      <th>5</th>\n",
       "      <td>Добавить страницу отзывов клиентов о магазине, что позволит увеличить количество заказов</td>\n",
       "      <td>4.0</td>\n",
       "    </tr>\n",
       "    <tr>\n",
       "      <th>4</th>\n",
       "      <td>Изменить цвет фона главной страницы, чтобы увеличить вовлеченность пользователей</td>\n",
       "      <td>3.0</td>\n",
       "    </tr>\n",
       "  </tbody>\n",
       "</table>\n",
       "</div>"
      ],
      "text/plain": [
       "                                                                                                     hypothesis  \\\n",
       "7              Добавить форму подписки на все основные страницы, чтобы собрать базу клиентов для email-рассылок   \n",
       "2  Добавить блоки рекомендаций товаров на сайт интернет магазина, чтобы повысить конверсию и средний чек заказа   \n",
       "0            Добавить два новых канала привлечения трафика, что позволит привлекать на 30% больше пользователей   \n",
       "6          Показать на главной странице баннеры с актуальными акциями и распродажами, чтобы увеличить конверсию   \n",
       "8                                                       Запустить акцию, дающую скидку на товар в день рождения   \n",
       "3           Изменить структура категорий, что увеличит конверсию, т.к. пользователи быстрее найдут нужный товар   \n",
       "1                                     Запустить собственную службу доставки, что сократит срок доставки заказов   \n",
       "5                      Добавить страницу отзывов клиентов о магазине, что позволит увеличить количество заказов   \n",
       "4                              Изменить цвет фона главной страницы, чтобы увеличить вовлеченность пользователей   \n",
       "\n",
       "    RICE  \n",
       "7  112.0  \n",
       "2   56.0  \n",
       "0   40.0  \n",
       "6   40.0  \n",
       "8   16.2  \n",
       "3    9.0  \n",
       "1    4.0  \n",
       "5    4.0  \n",
       "4    3.0  "
      ]
     },
     "execution_count": 10,
     "metadata": {},
     "output_type": "execute_result"
    }
   ],
   "source": [
    "hypothesis['RICE'] = (hypothesis['reach']*hypothesis['impact']*hypothesis['confidence'])/hypothesis['efforts']\n",
    "hypothesis[['hypothesis','RICE']].sort_values(by='RICE', ascending=False)"
   ]
  },
  {
   "cell_type": "markdown",
   "metadata": {
    "id": "UIjfMJIcb6fM"
   },
   "source": [
    "Видим что гипотезы под номерами 7,2,0,6,8 имеют наибольший приоретет. По сути это те же гипотезы, что и по методу ICE только в другом порядке, т.к метод RICE учитывает охват пользователей которых затронут изменения"
   ]
  },
  {
   "cell_type": "markdown",
   "metadata": {
    "id": "DuIJc2_reHBT"
   },
   "source": [
    "## Часть 2. Анализ A/B-теста\n",
    "1. Построим график кумулятивной выручки по группам."
   ]
  },
  {
   "cell_type": "code",
   "execution_count": 11,
   "metadata": {},
   "outputs": [
    {
     "name": "stdout",
     "output_type": "stream",
     "text": [
      "Пользователи в обеих группах: [4069496402, 199603092, 3803269165, 2378935119, 237748145, 4256040402, 2038680547, 1738359350, 2458001652, 3891541246, 2716752286, 3656415546, 2686716486, 2954449915, 2927087541, 3234906277, 457167155, 2579882178, 3957174400, 1648269707, 2780786433, 818047933, 2044997962, 1959144690, 3202540741, 1333886533, 351125977, 3951559397, 393266494, 3984495233, 4120364173, 4266935830, 1230306981, 1294878855, 1614305549, 8300375, 477780734, 1668030113, 3717692402, 3766097110, 3941795274, 471551937, 1316129916, 1801183820, 1602967004, 2587333274, 2600415354, 232979603, 3972127743, 1404934699, 276558944, 3062433592, 2654030115, 3963646447, 4186807279, 2712142231, 2949041841, 963407295]\n"
     ]
    }
   ],
   "source": [
    "ab_visitors = []\n",
    "for x in orders[orders['group']=='A']['visitorid'].unique():\n",
    "    if x in orders[orders['group']=='B']['visitorid'].unique():ab_visitors.append(x)\n",
    "print('Пользователи в обеих группах:', ab_visitors)"
   ]
  },
  {
   "cell_type": "code",
   "execution_count": 12,
   "metadata": {},
   "outputs": [],
   "source": [
    "# для корректности дальнейшего анализа удалим пользователей которые находятся в двух группах теста одновременно\n",
    "orders = orders.query('visitorid not in @ab_visitors')"
   ]
  },
  {
   "cell_type": "code",
   "execution_count": 13,
   "metadata": {
    "colab": {
     "base_uri": "https://localhost:8080/",
     "height": 363
    },
    "id": "9CWK0_z2HKhe",
    "outputId": "093c3da5-1eab-4785-e2ff-0b7c42bbd4bd"
   },
   "outputs": [
    {
     "data": {
      "text/html": [
       "<div>\n",
       "<style scoped>\n",
       "    .dataframe tbody tr th:only-of-type {\n",
       "        vertical-align: middle;\n",
       "    }\n",
       "\n",
       "    .dataframe tbody tr th {\n",
       "        vertical-align: top;\n",
       "    }\n",
       "\n",
       "    .dataframe thead th {\n",
       "        text-align: right;\n",
       "    }\n",
       "</style>\n",
       "<table border=\"1\" class=\"dataframe\">\n",
       "  <thead>\n",
       "    <tr style=\"text-align: right;\">\n",
       "      <th></th>\n",
       "      <th>date</th>\n",
       "      <th>group</th>\n",
       "      <th>orders</th>\n",
       "      <th>buyers</th>\n",
       "      <th>revenue</th>\n",
       "      <th>visitors</th>\n",
       "    </tr>\n",
       "  </thead>\n",
       "  <tbody>\n",
       "    <tr>\n",
       "      <th>0</th>\n",
       "      <td>2019-08-01</td>\n",
       "      <td>A</td>\n",
       "      <td>23</td>\n",
       "      <td>19</td>\n",
       "      <td>142779</td>\n",
       "      <td>719</td>\n",
       "    </tr>\n",
       "    <tr>\n",
       "      <th>1</th>\n",
       "      <td>2019-08-01</td>\n",
       "      <td>B</td>\n",
       "      <td>17</td>\n",
       "      <td>17</td>\n",
       "      <td>59758</td>\n",
       "      <td>713</td>\n",
       "    </tr>\n",
       "    <tr>\n",
       "      <th>2</th>\n",
       "      <td>2019-08-02</td>\n",
       "      <td>A</td>\n",
       "      <td>42</td>\n",
       "      <td>36</td>\n",
       "      <td>234381</td>\n",
       "      <td>1338</td>\n",
       "    </tr>\n",
       "    <tr>\n",
       "      <th>3</th>\n",
       "      <td>2019-08-02</td>\n",
       "      <td>B</td>\n",
       "      <td>40</td>\n",
       "      <td>39</td>\n",
       "      <td>221801</td>\n",
       "      <td>1294</td>\n",
       "    </tr>\n",
       "    <tr>\n",
       "      <th>4</th>\n",
       "      <td>2019-08-03</td>\n",
       "      <td>A</td>\n",
       "      <td>66</td>\n",
       "      <td>60</td>\n",
       "      <td>346854</td>\n",
       "      <td>1845</td>\n",
       "    </tr>\n",
       "    <tr>\n",
       "      <th>5</th>\n",
       "      <td>2019-08-03</td>\n",
       "      <td>B</td>\n",
       "      <td>54</td>\n",
       "      <td>53</td>\n",
       "      <td>288850</td>\n",
       "      <td>1803</td>\n",
       "    </tr>\n",
       "    <tr>\n",
       "      <th>6</th>\n",
       "      <td>2019-08-04</td>\n",
       "      <td>A</td>\n",
       "      <td>77</td>\n",
       "      <td>71</td>\n",
       "      <td>388030</td>\n",
       "      <td>2562</td>\n",
       "    </tr>\n",
       "    <tr>\n",
       "      <th>7</th>\n",
       "      <td>2019-08-04</td>\n",
       "      <td>B</td>\n",
       "      <td>68</td>\n",
       "      <td>66</td>\n",
       "      <td>385740</td>\n",
       "      <td>2573</td>\n",
       "    </tr>\n",
       "    <tr>\n",
       "      <th>8</th>\n",
       "      <td>2019-08-05</td>\n",
       "      <td>A</td>\n",
       "      <td>99</td>\n",
       "      <td>92</td>\n",
       "      <td>474413</td>\n",
       "      <td>3318</td>\n",
       "    </tr>\n",
       "    <tr>\n",
       "      <th>9</th>\n",
       "      <td>2019-08-05</td>\n",
       "      <td>B</td>\n",
       "      <td>89</td>\n",
       "      <td>87</td>\n",
       "      <td>475648</td>\n",
       "      <td>3280</td>\n",
       "    </tr>\n",
       "  </tbody>\n",
       "</table>\n",
       "</div>"
      ],
      "text/plain": [
       "        date group  orders  buyers  revenue  visitors\n",
       "0 2019-08-01     A      23      19   142779       719\n",
       "1 2019-08-01     B      17      17    59758       713\n",
       "2 2019-08-02     A      42      36   234381      1338\n",
       "3 2019-08-02     B      40      39   221801      1294\n",
       "4 2019-08-03     A      66      60   346854      1845\n",
       "5 2019-08-03     B      54      53   288850      1803\n",
       "6 2019-08-04     A      77      71   388030      2562\n",
       "7 2019-08-04     B      68      66   385740      2573\n",
       "8 2019-08-05     A      99      92   474413      3318\n",
       "9 2019-08-05     B      89      87   475648      3280"
      ]
     },
     "execution_count": 13,
     "metadata": {},
     "output_type": "execute_result"
    }
   ],
   "source": [
    "datesGroups = orders[['date','group']].drop_duplicates() \n",
    "# получаем агрегированные кумулятивные по дням данные о заказах \n",
    "ordersAggregated = datesGroups.apply(\n",
    "    lambda x: orders[np.logical_and(orders['date'] <= x['date'], orders['group'] == x['group'])].agg({\n",
    "    'date' : 'max',\n",
    "    'group' : 'max',\n",
    "    'transactionid' : pd.Series.nunique,\n",
    "    'visitorid' : pd.Series.nunique,\n",
    "    'revenue' : 'sum'}), axis=1).sort_values(by=['date','group']) \n",
    "\n",
    "# получаем агрегированные кумулятивные по дням данные о посетителях интернет-магазина \n",
    "visitorsAggregated = datesGroups.apply(\n",
    "    lambda x: visitors[np.logical_and(visitors['date'] <= x['date'], visitors['group'] == x['group'])].agg({\n",
    "        'date' : 'max',\n",
    "        'group' : 'max',\n",
    "        'visitors' : 'sum'}), axis=1).sort_values(by=['date','group'])\n",
    "\n",
    "cumulativeData = ordersAggregated.merge(visitorsAggregated, left_on=['date', 'group'], right_on=['date', 'group'])\n",
    "cumulativeData.columns = ['date', 'group', 'orders', 'buyers', 'revenue', 'visitors']\n",
    "cumulativeData.head(10)"
   ]
  },
  {
   "cell_type": "code",
   "execution_count": 14,
   "metadata": {
    "colab": {
     "base_uri": "https://localhost:8080/",
     "height": 609
    },
    "id": "jsko4UBVHKkV",
    "outputId": "866d426e-bc5f-490e-c8b9-c0d481627d33"
   },
   "outputs": [
    {
     "data": {
      "image/png": "[encoded data removed]",
      "text/plain": [
       "<Figure size 1080x720 with 1 Axes>"
      ]
     },
     "metadata": {},
     "output_type": "display_data"
    }
   ],
   "source": [
    "# датафрейм с кумулятивным количеством заказов и кумулятивной выручкой по дням в группе А\n",
    "cumulativeRevenueA = cumulativeData[cumulativeData['group']=='A'][['date','revenue', 'orders']]\n",
    "\n",
    "# датафрейм с кумулятивным количеством заказов и кумулятивной выручкой по дням в группе B\n",
    "cumulativeRevenueB = cumulativeData[cumulativeData['group']=='B'][['date','revenue', 'orders']]\n",
    "\n",
    "# Строим график выручки группы А\n",
    "plt.plot(cumulativeRevenueA['date'], cumulativeRevenueA['revenue'], label='A');\n",
    "\n",
    "# Строим график выручки группы B\n",
    "plt.plot(cumulativeRevenueB['date'], cumulativeRevenueB['revenue'], label='B');\n",
    "\n",
    "plt.title('График кумулятивной выручки по группам')\n",
    "plt.ylabel(\"Выручка, млн\")\n",
    "plt.xlabel(\"Дата\")\n",
    "plt.legend() \n",
    "plt.show()"
   ]
  },
  {
   "cell_type": "markdown",
   "metadata": {
    "id": "LZEW7w4Hn5WZ"
   },
   "source": [
    "\n",
    "Видим что кумулятивная выручка группы B больше чем у группы А а так же что график выручки группы В резко растет в одной точке. Это может сигнализировать о всплесках числа заказов, либо о появлении очень дорогих заказов в выборке. Такие выбросы нам нужно будет убрать в дальнейшем.."
   ]
  },
  {
   "cell_type": "markdown",
   "metadata": {
    "id": "0oQph7Y_u__b"
   },
   "source": [
    "2. Постройте график кумулятивного среднего чека по группам."
   ]
  },
  {
   "cell_type": "code",
   "execution_count": 15,
   "metadata": {
    "colab": {
     "base_uri": "https://localhost:8080/",
     "height": 609
    },
    "id": "9dPMN0hhG-ND",
    "outputId": "e1850d18-7656-458d-f573-ad2aaf6e1309"
   },
   "outputs": [
    {
     "data": {
      "image/png": "[encoded data removed]",
      "text/plain": [
       "<Figure size 1080x720 with 1 Axes>"
      ]
     },
     "metadata": {},
     "output_type": "display_data"
    }
   ],
   "source": [
    "plt.plot(cumulativeRevenueA['date'], cumulativeRevenueA['revenue']/cumulativeRevenueA['orders'], label='A')\n",
    "plt.plot(cumulativeRevenueB['date'], cumulativeRevenueB['revenue']/cumulativeRevenueB['orders'], label='B')\n",
    "plt.title('График среднего чека по группам')\n",
    "plt.ylabel('Средний чек')\n",
    "plt.xlabel(\"Дата\")\n",
    "plt.legend() \n",
    "plt.show()"
   ]
  },
  {
   "cell_type": "markdown",
   "metadata": {
    "id": "pUvwG_fW1_x3"
   },
   "source": [
    "График среднего чека по группе А стабилизировался а график среднего чека по группе B показал резкий рывок в районе 18 августа, что говорит о резком росте среднего чека в этот день и соответственно аномально дорогих покупках.. "
   ]
  },
  {
   "cell_type": "markdown",
   "metadata": {
    "id": "hAvqt4tc3ZVw"
   },
   "source": [
    " 3. Построим график относительного изменения кумулятивного среднего чека группы B к группе A."
   ]
  },
  {
   "cell_type": "code",
   "execution_count": 16,
   "metadata": {
    "colab": {
     "base_uri": "https://localhost:8080/",
     "height": 609
    },
    "id": "_zWsyw8Ruo6_",
    "outputId": "0d6df172-ef11-41ee-eb9b-faa65bcea982"
   },
   "outputs": [
    {
     "data": {
      "image/png": "[encoded data removed]",
      "text/plain": [
       "<Figure size 1080x720 with 1 Axes>"
      ]
     },
     "metadata": {},
     "output_type": "display_data"
    }
   ],
   "source": [
    "# собираем данные в одном датафрейме\n",
    "mergedCumulativeRevenue = cumulativeRevenueA.merge(cumulativeRevenueB, left_on='date', right_on='date', how='left', suffixes=['A', 'B'])\n",
    "\n",
    "# cтроим отношение средних чеков\n",
    "plt.plot(mergedCumulativeRevenue['date'], (mergedCumulativeRevenue['revenueB']/mergedCumulativeRevenue['ordersB'])/(mergedCumulativeRevenue['revenueA']/mergedCumulativeRevenue['ordersA'])-1)\n",
    "\n",
    "# добавляем ось X\n",
    "plt.axhline(y=0, color='black', linestyle='--');\n",
    "plt.title('График относительного изменения кумулятивного среднего чека группы B к группе A')\n",
    "plt.xlabel(\"Дата\")\n",
    "plt.ylabel('Относительное изменение')\n",
    "plt.show()"
   ]
  },
  {
   "cell_type": "markdown",
   "metadata": {
    "id": "XGUvQWLf4l6S"
   },
   "source": [
    "График относительного изменения кумулятивного среднего чека сильно колеблется из стороны в сторону из за аномально \"дорогих\" заказов, наличие аномально дорогого заказа от 18.09 мы выявили ранее.."
   ]
  },
  {
   "cell_type": "markdown",
   "metadata": {
    "id": "RtOpzbjb7A8G"
   },
   "source": [
    "4. Построим график кумулятивного среднего количества заказов на посетителя по группам."
   ]
  },
  {
   "cell_type": "code",
   "execution_count": 17,
   "metadata": {
    "colab": {
     "base_uri": "https://localhost:8080/",
     "height": 609
    },
    "id": "7mrHKUc73nL1",
    "outputId": "12882061-5f86-47f1-f529-e7824cc92859"
   },
   "outputs": [
    {
     "data": {
      "image/png": "[encoded data removed]",
      "text/plain": [
       "<Figure size 1080x720 with 1 Axes>"
      ]
     },
     "metadata": {},
     "output_type": "display_data"
    }
   ],
   "source": [
    "# считаем кумулятивную конверсию\n",
    "cumulativeData['conversion'] = cumulativeData['orders']/cumulativeData['visitors']\n",
    "\n",
    "# отделяем данные по группе A\n",
    "cumulativeDataA = cumulativeData[cumulativeData['group']=='A']\n",
    "\n",
    "# отделяем данные по группе B\n",
    "cumulativeDataB = cumulativeData[cumulativeData['group']=='B']\n",
    "\n",
    "# строим графики\n",
    "plt.plot(cumulativeDataA['date'], cumulativeDataA['conversion'], label='A')\n",
    "plt.plot(cumulativeDataB['date'], cumulativeDataB['conversion'], label='B')\n",
    "plt.legend()\n",
    "plt.xlabel(\"Дата\")\n",
    "plt.ylabel('Среднее количество заказов на посетителя')\n",
    "plt.title('График кумулятивного среднего количества заказов на посетителя по группам');"
   ]
  },
  {
   "cell_type": "markdown",
   "metadata": {
    "id": "NvI5aGfMjVtq"
   },
   "source": [
    "Сперва графики колебались но после стабилизировались, как видим у Группы В результат существенно лучше"
   ]
  },
  {
   "cell_type": "markdown",
   "metadata": {
    "id": "ggbkBCxAD6t4"
   },
   "source": [
    "5. Построим график относительного изменения кумулятивного среднего количества заказов на посетителя группы B к группе A"
   ]
  },
  {
   "cell_type": "code",
   "execution_count": 18,
   "metadata": {
    "colab": {
     "base_uri": "https://localhost:8080/",
     "height": 626
    },
    "id": "A4xM7YvM8h5k",
    "outputId": "a8d76f09-fa99-450d-f8be-dab09f4f698f"
   },
   "outputs": [
    {
     "data": {
      "image/png": "[encoded data removed]",
      "text/plain": [
       "<Figure size 1080x720 with 1 Axes>"
      ]
     },
     "metadata": {},
     "output_type": "display_data"
    }
   ],
   "source": [
    "mergedCumulativeConversions = cumulativeDataA[['date','conversion']].merge(cumulativeDataB[['date','conversion']], left_on='date', right_on='date', how='left', suffixes=['A', 'B'])\n",
    "\n",
    "plt.plot(mergedCumulativeConversions['date'], mergedCumulativeConversions['conversionB']/mergedCumulativeConversions['conversionA']-1, label=\"Относительный прирост\")\n",
    "plt.legend()\n",
    "plt.xlabel(\"Дата\");\n",
    "plt.title('График относительного изменения кумулятивного среднего количества заказов на посетителя группы B к группе A')\n",
    "plt.ylabel('Относительное изменение')\n",
    "plt.axhline(y=0, color='black', linestyle='--')\n",
    "plt.axhline(y=0.15, color='grey', linestyle='--');"
   ]
  },
  {
   "cell_type": "markdown",
   "metadata": {
    "id": "cKhREsP0k5Vo"
   },
   "source": [
    "Почти с самого начала группа В лидирует по конверсии, в настоящий момент она примерно на 15% лучше чем у группа А и возможно еще вырастет.."
   ]
  },
  {
   "cell_type": "markdown",
   "metadata": {
    "id": "wXG05DHdESSX"
   },
   "source": [
    "6. Построим точечный график количества заказов по пользователям."
   ]
  },
  {
   "cell_type": "code",
   "execution_count": 19,
   "metadata": {
    "colab": {
     "base_uri": "https://localhost:8080/",
     "height": 800
    },
    "id": "Kk5ziR09EX2E",
    "outputId": "6363b10b-3dbd-4e45-f75f-a2f64e2d0dde"
   },
   "outputs": [
    {
     "name": "stdout",
     "output_type": "stream",
     "text": [
      "         userId  orders\n",
      "908  3967698036       3\n",
      "55    249864742       3\n",
      "478  2108163459       3\n",
      "687  2988190573       3\n",
      "890  3908431265       3\n",
      "138   611059232       3\n",
      "632  2742574263       3\n",
      "157   678354126       2\n",
      "323  1404560065       2\n",
      "452  1985475298       2\n"
     ]
    },
    {
     "data": {
      "image/png": "[encoded data removed]",
      "text/plain": [
       "<Figure size 1080x720 with 1 Axes>"
      ]
     },
     "metadata": {},
     "output_type": "display_data"
    }
   ],
   "source": [
    "ordersByUsers = (\n",
    "    orders.groupby('visitorid', as_index=False)\n",
    "    .agg({'transactionid': 'nunique'})\n",
    ")\n",
    "ordersByUsers.columns = ['userId', 'orders']\n",
    "\n",
    "print(ordersByUsers.sort_values(by='orders', ascending=False).head(10))\n",
    "\n",
    "# серия из чисел от 0 до количества наблюдений в ordersByUsers\n",
    "x_values = pd.Series(range(0, len(ordersByUsers)))\n",
    "plt.title('Точечный график количества заказов по пользователям')\n",
    "plt.xlabel('Номер пользователя')\n",
    "plt.ylabel('Количество заказов')\n",
    "plt.scatter(x_values, ordersByUsers['orders'], alpha=0.7);\n"
   ]
  },
  {
   "cell_type": "markdown",
   "metadata": {
    "id": "l2Ul3UZRJA_T"
   },
   "source": [
    "Как видим из графика у основной массы пользователей по одному заказу, есть пользователи заказавшие и 2 и 3 раза, однако их количество невелико, постараемся оценить их количество считая перцентили\n",
    "\n",
    "7. Посчитаем 95-й и 99-й перцентили количества заказов на пользователя."
   ]
  },
  {
   "cell_type": "code",
   "execution_count": 20,
   "metadata": {
    "colab": {
     "base_uri": "https://localhost:8080/"
    },
    "id": "6pXSGbk_FD4q",
    "outputId": "d5bb11c9-fee4-49ce-ba17-4f74133afc92"
   },
   "outputs": [
    {
     "data": {
      "text/plain": [
       "array([1., 2.])"
      ]
     },
     "execution_count": 20,
     "metadata": {},
     "output_type": "execute_result"
    }
   ],
   "source": [
    "np.percentile(ordersByUsers['orders'], [95,99])  # Метод np.percentile('column', [percentile1, percentile2]) находит перцентили."
   ]
  },
  {
   "cell_type": "markdown",
   "metadata": {
    "id": "-mJ39Xc6MccH"
   },
   "source": [
    "Не более 5 % пользователей совершили больше 1 заказа, не более 1 % совершили больше 2 заказов.. Примем за аномальных пользователей тех, кто совершил от 2 заказов. Так мы уберём 1% пользователей с наибольшим числом заказов"
   ]
  },
  {
   "cell_type": "markdown",
   "metadata": {
    "id": "RztlmUy-Qs8r"
   },
   "source": [
    "8. Построим точечный график стоимостей заказов."
   ]
  },
  {
   "cell_type": "code",
   "execution_count": 21,
   "metadata": {
    "colab": {
     "base_uri": "https://localhost:8080/",
     "height": 800
    },
    "id": "NbybuqTBI5Ci",
    "outputId": "6d8f391b-69c9-40ce-973b-a6fb2eba0b29"
   },
   "outputs": [
    {
     "name": "stdout",
     "output_type": "stream",
     "text": [
      "      transactionid   visitorid       date  revenue group\n",
      "425       590470918  1920142716 2019-08-19  1294500     B\n",
      "1196     3936777065  2108080724 2019-08-15   202740     B\n",
      "1136      666610489  1307669133 2019-08-13    92550     A\n",
      "744      3668308183   888512513 2019-08-27    86620     B\n",
      "743      3603576309  4133034833 2019-08-09    67990     A\n",
      "1103     1348774318  1164614297 2019-08-12    66350     A\n",
      "1099      316924019   148427295 2019-08-12    65710     A\n",
      "949      1347999392   887908475 2019-08-21    60450     A\n",
      "940      2420050534  4003628586 2019-08-08    58550     B\n",
      "131      3163614039  2254586615 2019-08-22    53904     A\n"
     ]
    },
    {
     "data": {
      "image/png": "[encoded data removed]",
      "text/plain": [
       "<Figure size 1080x720 with 1 Axes>"
      ]
     },
     "metadata": {},
     "output_type": "display_data"
    }
   ],
   "source": [
    "print(orders.sort_values(by='revenue', ascending=False).head(10))\n",
    "\n",
    "x_values = pd.Series(range(0, len(orders['revenue'])))\n",
    "plt.title('Точечный график стоимостей заказов')\n",
    "plt.xlabel('Номер пользователя')\n",
    "plt.ylabel('Количество заказов')\n",
    "plt.scatter(x_values, orders['revenue'],alpha=0.7);"
   ]
  },
  {
   "cell_type": "code",
   "execution_count": 22,
   "metadata": {
    "colab": {
     "base_uri": "https://localhost:8080/",
     "height": 173
    },
    "id": "lQ4lDrmgXy5U",
    "outputId": "079acfc8-564a-4ebd-e458-afe3346f7f5b"
   },
   "outputs": [
    {
     "data": {
      "text/plain": [
       "count    1.016000e+03\n",
       "mean     8.300815e+03\n",
       "std      4.212199e+04\n",
       "min      5.000000e+01\n",
       "25%      1.190000e+03\n",
       "50%      2.955000e+03\n",
       "75%      8.134250e+03\n",
       "max      1.294500e+06\n",
       "Name: revenue, dtype: float64"
      ]
     },
     "metadata": {},
     "output_type": "display_data"
    }
   ],
   "source": [
    "display(orders['revenue'].describe())"
   ]
  },
  {
   "cell_type": "markdown",
   "metadata": {
    "id": "NRyO3oSpVR7U"
   },
   "source": [
    "В глаза сразу бросается аномально дорогой заказ (1.294 млн) о существовании которого мы  узнали ранее, так же видим что есть и другие крупные заказы.."
   ]
  },
  {
   "cell_type": "markdown",
   "metadata": {
    "id": "NRyO3oSpVR7U"
   },
   "source": [
    "9. Посчитаем 95-й и 99-й перцентили стоимости заказов. Выберем границу для определения аномальных заказов."
   ]
  },
  {
   "cell_type": "code",
   "execution_count": 23,
   "metadata": {
    "colab": {
     "base_uri": "https://localhost:8080/"
    },
    "id": "NwLZhSrjRUYg",
    "outputId": "8e6bcba4-1ccd-4d39-af85-7938b2a9d962"
   },
   "outputs": [
    {
     "data": {
      "text/plain": [
       "array([26785., 53904.])"
      ]
     },
     "execution_count": 23,
     "metadata": {},
     "output_type": "execute_result"
    }
   ],
   "source": [
    "np.percentile(orders['revenue'], [95, 99])"
   ]
  },
  {
   "cell_type": "markdown",
   "metadata": {
    "id": "uUZpMfcEZrmm"
   },
   "source": [
    "Примем за аномальных пользователей тех, кто совершил заказ дороже 53904 рублей. Так мы уберём 1% пользователей с самыми дорогими заказами. "
   ]
  },
  {
   "cell_type": "markdown",
   "metadata": {
    "id": "uUZpMfcEZrmm"
   },
   "source": [
    "Ранее мы оценили результаты A/B-теста визуально и выяснили, что в данных, скорее всего, есть выбросы;\n",
    "Увидели выбросы и нашли границу для их определения."
   ]
  },
  {
   "cell_type": "markdown",
   "metadata": {
    "id": "tpKOjG6saxXo"
   },
   "source": [
    "10. Посчитаем статистическую значимость различий в среднем количестве заказов на посетителя между группами по «сырым» данным без удаления аномальных пользователей.\n",
    "Сформулируем гипотезы. \n",
    "\n",
    "*   Нулевая: различий в среднем количестве заказов между группами нет.\n",
    "*   Альтернативная: различия в среднем между группами есть.\n",
    "\n",
    "Для проверки гипотез будем использовать непараметрический тест Уилкоксона-Манна-Уитни. Он используется когда в данных есть большие (по сравнению с нормальным распределением) выбросы и это как раз наш случай\n",
    "\n",
    "Начнём с подготовки данных.\n",
    "\n",
    "\n",
    "\n"
   ]
  },
  {
   "cell_type": "code",
   "execution_count": 24,
   "metadata": {
    "colab": {
     "base_uri": "https://localhost:8080/",
     "height": 357
    },
    "id": "aAV0IhHpXAzQ",
    "outputId": "4ae27a77-2729-439b-cb47-adb12ebca130"
   },
   "outputs": [
    {
     "data": {
      "text/html": [
       "<div>\n",
       "<style scoped>\n",
       "    .dataframe tbody tr th:only-of-type {\n",
       "        vertical-align: middle;\n",
       "    }\n",
       "\n",
       "    .dataframe tbody tr th {\n",
       "        vertical-align: top;\n",
       "    }\n",
       "\n",
       "    .dataframe thead th {\n",
       "        text-align: right;\n",
       "    }\n",
       "</style>\n",
       "<table border=\"1\" class=\"dataframe\">\n",
       "  <thead>\n",
       "    <tr style=\"text-align: right;\">\n",
       "      <th></th>\n",
       "      <th>date</th>\n",
       "      <th>ordersPerDateA</th>\n",
       "      <th>revenuePerDateA</th>\n",
       "      <th>ordersPerDateB</th>\n",
       "      <th>revenuePerDateB</th>\n",
       "      <th>ordersCummulativeA</th>\n",
       "      <th>revenueCummulativeA</th>\n",
       "      <th>ordersCummulativeB</th>\n",
       "      <th>revenueCummulativeB</th>\n",
       "      <th>visitorsPerDateA</th>\n",
       "      <th>visitorsPerDateB</th>\n",
       "      <th>visitorsCummulativeA</th>\n",
       "      <th>visitorsCummulativeB</th>\n",
       "    </tr>\n",
       "  </thead>\n",
       "  <tbody>\n",
       "    <tr>\n",
       "      <th>0</th>\n",
       "      <td>2019-08-01</td>\n",
       "      <td>23</td>\n",
       "      <td>142779</td>\n",
       "      <td>17</td>\n",
       "      <td>59758</td>\n",
       "      <td>23</td>\n",
       "      <td>142779</td>\n",
       "      <td>17</td>\n",
       "      <td>59758</td>\n",
       "      <td>719</td>\n",
       "      <td>713</td>\n",
       "      <td>719</td>\n",
       "      <td>713</td>\n",
       "    </tr>\n",
       "    <tr>\n",
       "      <th>1</th>\n",
       "      <td>2019-08-02</td>\n",
       "      <td>19</td>\n",
       "      <td>91602</td>\n",
       "      <td>23</td>\n",
       "      <td>162043</td>\n",
       "      <td>42</td>\n",
       "      <td>234381</td>\n",
       "      <td>40</td>\n",
       "      <td>221801</td>\n",
       "      <td>619</td>\n",
       "      <td>581</td>\n",
       "      <td>1338</td>\n",
       "      <td>1294</td>\n",
       "    </tr>\n",
       "    <tr>\n",
       "      <th>2</th>\n",
       "      <td>2019-08-03</td>\n",
       "      <td>24</td>\n",
       "      <td>112473</td>\n",
       "      <td>14</td>\n",
       "      <td>67049</td>\n",
       "      <td>66</td>\n",
       "      <td>346854</td>\n",
       "      <td>54</td>\n",
       "      <td>288850</td>\n",
       "      <td>507</td>\n",
       "      <td>509</td>\n",
       "      <td>1845</td>\n",
       "      <td>1803</td>\n",
       "    </tr>\n",
       "    <tr>\n",
       "      <th>3</th>\n",
       "      <td>2019-08-04</td>\n",
       "      <td>11</td>\n",
       "      <td>41176</td>\n",
       "      <td>14</td>\n",
       "      <td>96890</td>\n",
       "      <td>77</td>\n",
       "      <td>388030</td>\n",
       "      <td>68</td>\n",
       "      <td>385740</td>\n",
       "      <td>717</td>\n",
       "      <td>770</td>\n",
       "      <td>2562</td>\n",
       "      <td>2573</td>\n",
       "    </tr>\n",
       "    <tr>\n",
       "      <th>4</th>\n",
       "      <td>2019-08-05</td>\n",
       "      <td>22</td>\n",
       "      <td>86383</td>\n",
       "      <td>21</td>\n",
       "      <td>89908</td>\n",
       "      <td>99</td>\n",
       "      <td>474413</td>\n",
       "      <td>89</td>\n",
       "      <td>475648</td>\n",
       "      <td>756</td>\n",
       "      <td>707</td>\n",
       "      <td>3318</td>\n",
       "      <td>3280</td>\n",
       "    </tr>\n",
       "  </tbody>\n",
       "</table>\n",
       "</div>"
      ],
      "text/plain": [
       "        date  ordersPerDateA  revenuePerDateA  ordersPerDateB  \\\n",
       "0 2019-08-01              23           142779              17   \n",
       "1 2019-08-02              19            91602              23   \n",
       "2 2019-08-03              24           112473              14   \n",
       "3 2019-08-04              11            41176              14   \n",
       "4 2019-08-05              22            86383              21   \n",
       "\n",
       "   revenuePerDateB  ordersCummulativeA  revenueCummulativeA  \\\n",
       "0            59758                  23               142779   \n",
       "1           162043                  42               234381   \n",
       "2            67049                  66               346854   \n",
       "3            96890                  77               388030   \n",
       "4            89908                  99               474413   \n",
       "\n",
       "   ordersCummulativeB  revenueCummulativeB  visitorsPerDateA  \\\n",
       "0                  17                59758               719   \n",
       "1                  40               221801               619   \n",
       "2                  54               288850               507   \n",
       "3                  68               385740               717   \n",
       "4                  89               475648               756   \n",
       "\n",
       "   visitorsPerDateB  visitorsCummulativeA  visitorsCummulativeB  \n",
       "0               713                   719                   713  \n",
       "1               581                  1338                  1294  \n",
       "2               509                  1845                  1803  \n",
       "3               770                  2562                  2573  \n",
       "4               707                  3318                  3280  "
      ]
     },
     "execution_count": 24,
     "metadata": {},
     "output_type": "execute_result"
    }
   ],
   "source": [
    "\n",
    "visitorsADaily = visitors[visitors['group'] == 'A'][['date', 'visitors']]\n",
    "visitorsADaily.columns = ['date', 'visitorsPerDateA']\n",
    "\n",
    "visitorsACummulative = visitorsADaily.apply(\n",
    "    lambda x: visitorsADaily[visitorsADaily['date'] <= x['date']].agg(\n",
    "        {'date': 'max', 'visitorsPerDateA': 'sum'}\n",
    "    ),\n",
    "    axis=1,\n",
    ")\n",
    "visitorsACummulative.columns = ['date', 'visitorsCummulativeA']\n",
    "\n",
    "visitorsBDaily = visitors[visitors['group'] == 'B'][['date', 'visitors']]\n",
    "visitorsBDaily.columns = ['date', 'visitorsPerDateB']\n",
    "\n",
    "visitorsBCummulative = visitorsBDaily.apply(\n",
    "    lambda x: visitorsBDaily[visitorsBDaily['date'] <= x['date']].agg(\n",
    "        {'date': 'max', 'visitorsPerDateB': 'sum'}\n",
    "    ),\n",
    "    axis=1,\n",
    ")\n",
    "visitorsBCummulative.columns = ['date', 'visitorsCummulativeB']\n",
    "\n",
    "ordersADaily = (\n",
    "    orders[orders['group'] == 'A'][['date', 'transactionid', 'visitorid', 'revenue']]\n",
    "    .groupby('date', as_index=False)\n",
    "    .agg({'transactionid': pd.Series.nunique, 'revenue': 'sum'})\n",
    ")\n",
    "ordersADaily.columns = ['date', 'ordersPerDateA', 'revenuePerDateA']\n",
    "\n",
    "ordersACummulative = ordersADaily.apply(\n",
    "    lambda x: ordersADaily[ordersADaily['date'] <= x['date']].agg(\n",
    "        {'date': 'max', 'ordersPerDateA': 'sum', 'revenuePerDateA': 'sum'}\n",
    "    ),\n",
    "    axis=1,\n",
    ").sort_values(by=['date'])\n",
    "ordersACummulative.columns = [\n",
    "    'date',\n",
    "    'ordersCummulativeA',\n",
    "    'revenueCummulativeA',\n",
    "]\n",
    "\n",
    "ordersBDaily = (\n",
    "    orders[orders['group'] == 'B'][['date', 'transactionid', 'visitorid', 'revenue']]\n",
    "    .groupby('date', as_index=False)\n",
    "    .agg({'transactionid': pd.Series.nunique, 'revenue': 'sum'})\n",
    ")\n",
    "ordersBDaily.columns = ['date', 'ordersPerDateB', 'revenuePerDateB']\n",
    "\n",
    "ordersBCummulative = ordersBDaily.apply(\n",
    "    lambda x: ordersBDaily[ordersBDaily['date'] <= x['date']].agg(\n",
    "        {'date': 'max', 'ordersPerDateB': 'sum', 'revenuePerDateB': 'sum'}\n",
    "    ),\n",
    "    axis=1,\n",
    ").sort_values(by=['date'])\n",
    "ordersBCummulative.columns = [\n",
    "    'date',\n",
    "    'ordersCummulativeB',\n",
    "    'revenueCummulativeB',\n",
    "]\n",
    "\n",
    "data = (\n",
    "    ordersADaily.merge(\n",
    "        ordersBDaily, left_on='date', right_on='date', how='left'\n",
    "    )\n",
    "    .merge(ordersACummulative, left_on='date', right_on='date', how='left')\n",
    "    .merge(ordersBCummulative, left_on='date', right_on='date', how='left')\n",
    "    .merge(visitorsADaily, left_on='date', right_on='date', how='left')\n",
    "    .merge(visitorsBDaily, left_on='date', right_on='date', how='left')\n",
    "    .merge(visitorsACummulative, left_on='date', right_on='date', how='left')\n",
    "    .merge(visitorsBCummulative, left_on='date', right_on='date', how='left')\n",
    ")\n",
    "\n",
    "data.head(5)"
   ]
  },
  {
   "cell_type": "markdown",
   "metadata": {
    "id": "3-FrwXaRBGS9"
   },
   "source": [
    "Напомним названия столбцов данных:\n",
    "- date — дата;\n",
    "- ordersPerDateA — количество заказов в выбранную дату в группе A;\n",
    "- revenuePerDateA — суммарная выручка в выбранную дату в группе A;\n",
    "- ordersPerDateB — количество заказов в выбранную дату в группе B;\n",
    "- revenuePerDateB — суммарная выручка в выбранную дату в группе B;\n",
    "- ordersCummulativeA — суммарное число заказов до выбранной даты включительно в группе A;\n",
    "- revenueCummulativeA — суммарная выручка до выбранной даты включительно в группе A;\n",
    "- ordersCummulativeB — суммарное количество заказов до выбранной даты включительно в группе B;\n",
    "- revenueCummulativeB — суммарная выручка до выбранной даты включительно в группе B;\n",
    "- visitorsPerDateA — количество пользователей в выбранную дату в группе A;\n",
    "- visitorsPerDateB — количество пользователей в выбранную дату в группе B;\n",
    "- visitorsCummulativeA — количество пользователей до выбранной даты включительно в группе A;\n",
    "- visitorsCummulativeB — количество пользователей до выбранной даты включительно в группе B."
   ]
  },
  {
   "cell_type": "markdown",
   "metadata": {
    "id": "LC8TzVR8BfXh"
   },
   "source": [
    "Посчитаем статистическую значимость различия в среднем количестве заказов между группами.\n",
    " В них для пользователей, которые заказывали хотя бы 1 раз, укажем число совершённых заказов. "
   ]
  },
  {
   "cell_type": "code",
   "execution_count": 25,
   "metadata": {
    "id": "ES5GC_BCayMB"
   },
   "outputs": [],
   "source": [
    "ordersByUsersA = (\n",
    "    orders[orders['group'] == 'A']\n",
    "    .groupby('visitorid', as_index=False)\n",
    "    .agg({'transactionid': pd.Series.nunique})\n",
    ")\n",
    "ordersByUsersA.columns = ['visitorid', 'orders']\n",
    "\n",
    "ordersByUsersB = (\n",
    "    orders[orders['group'] == 'B']\n",
    "    .groupby('visitorid', as_index=False)\n",
    "    .agg({'transactionid': pd.Series.nunique})\n",
    ")\n",
    "ordersByUsersB.columns = ['visitorid', 'orders'] "
   ]
  },
  {
   "cell_type": "markdown",
   "metadata": {
    "id": "gWkipTSeCIkA"
   },
   "source": [
    "Объявим переменные sampleA и sampleB, в которых пользователям из разных групп будет соответствовать количество заказов. Тем, кто ничего не заказал, будут соответствовать нули. Это нужно, чтобы подготовить выборки к проверке критерием Манна-Уитни."
   ]
  },
  {
   "cell_type": "code",
   "execution_count": 26,
   "metadata": {
    "id": "uAmbnexTB7vT"
   },
   "outputs": [],
   "source": [
    "sampleA = pd.concat([ordersByUsersA['orders'],pd.Series(0, index=np.arange(data['visitorsPerDateA'].sum() - len(ordersByUsersA['orders'])), name='orders')],axis=0)\n",
    "sampleB = pd.concat([ordersByUsersB['orders'],pd.Series(0, index=np.arange(data['visitorsPerDateB'].sum() - len(ordersByUsersB['orders'])), name='orders')],axis=0)"
   ]
  },
  {
   "cell_type": "markdown",
   "metadata": {
    "id": "ycRd9WbYENws"
   },
   "source": [
    "P-value возьмем равным 0.05"
   ]
  },
  {
   "cell_type": "code",
   "execution_count": 27,
   "metadata": {
    "colab": {
     "base_uri": "https://localhost:8080/"
    },
    "id": "u_mqYGwAChtD",
    "outputId": "8aeccfaf-984d-4d50-939b-22d1e1f41758"
   },
   "outputs": [
    {
     "name": "stdout",
     "output_type": "stream",
     "text": [
      "P-value: 0.011\n",
      "Относительный прирост В к А: 0.160\n"
     ]
    }
   ],
   "source": [
    "print(\"P-value: {0:.3f}\".format(stats.mannwhitneyu(sampleA, sampleB)[1]))\n",
    "print(\"Относительный прирост В к А: {0:.3f}\".format(sampleB.mean() / sampleA.mean() - 1))"
   ]
  },
  {
   "cell_type": "markdown",
   "metadata": {
    "id": "BMCQzPg0Dw5k"
   },
   "source": [
    "Вывод: По «сырым» данным есть различия в среднем числе заказов групп A и B. \n",
    "Первое число — p-value = 0.011 меньше 0.05. Значит, нулевую гипотезу о том, что статистически значимых различий в среднем числе заказов на посетителя между группами нет,  отвергаем. Однако относительный выигрыш группы B равен 16.0% — второе число в выводе."
   ]
  },
  {
   "cell_type": "markdown",
   "metadata": {
    "id": "FuVFcPP7FieL"
   },
   "source": [
    "11. Теперь проверим статистическую значимость различий в среднем чеке между сегментами по «сырым» данным\n",
    "\n",
    "*   Нулевая гипотеза: различий в среднем чеке между группами нет.\n",
    "*   Альтернативная гипотеза: различия в среднем чеке между группами есть. \n",
    "\n",
    "P-value возьмем равным 0.05\n",
    "\n"
   ]
  },
  {
   "cell_type": "code",
   "execution_count": 28,
   "metadata": {
    "colab": {
     "base_uri": "https://localhost:8080/"
    },
    "id": "6DzS0KCMDPSv",
    "outputId": "8b858468-36e8-41a8-aa44-560a66ae3ea1"
   },
   "outputs": [
    {
     "name": "stdout",
     "output_type": "stream",
     "text": [
      "P-value: 0.829\n",
      "Относительный прирост В к А: 0.287\n"
     ]
    }
   ],
   "source": [
    "print('P-value: {0:.3f}'.format(stats.mannwhitneyu(orders[orders['group']=='A']['revenue'], orders[orders['group']=='B']['revenue'])[1]))\n",
    "print('Относительный прирост В к А: {0:.3f}'.format(orders[orders['group']=='B']['revenue'].mean()/orders[orders['group']=='A']['revenue'].mean()-1)) "
   ]
  },
  {
   "cell_type": "markdown",
   "metadata": {
    "id": "8VnyGrBMHJ2n"
   },
   "source": [
    "Первое число — p-value значительно больше 0.05. Значит, причин отвергать нулевую гипотезу и считать, что в среднем чеке есть различия, нет. Впрочем, средний чек группы B значительно больше среднего чека группы A."
   ]
  },
  {
   "cell_type": "markdown",
   "metadata": {
    "id": "ejOcOOc3IWZu"
   },
   "source": [
    "12. Посчитаем статистическую значимость различий в среднем количестве заказов на посетителя между группами по «очищенным» данным\n",
    "\n",
    "Напомним что мы решили принять за аномальных пользователей тех, кто совершил от 2 заказов или совершил заказ дороже 53904 рублей. Т.е убираем 1% таких пользователей. Сделаем срезы пользователей \n"
   ]
  },
  {
   "cell_type": "code",
   "execution_count": 29,
   "metadata": {
    "colab": {
     "base_uri": "https://localhost:8080/"
    },
    "id": "V0JK_QcFGNiT",
    "outputId": "961a9929-e8f2-411d-e84f-96814ceea27c"
   },
   "outputs": [
    {
     "data": {
      "text/plain": [
       "1099    148427295\n",
       "33      249864742\n",
       "58      611059232\n",
       "949     887908475\n",
       "744     888512513\n",
       "Name: visitorid, dtype: int64"
      ]
     },
     "execution_count": 29,
     "metadata": {},
     "output_type": "execute_result"
    }
   ],
   "source": [
    "usersWithManyOrders = pd.concat(\n",
    "    [\n",
    "        ordersByUsersA[ordersByUsersA['orders'] > np.percentile(ordersByUsers['orders'], 99)]['visitorid'],\n",
    "        ordersByUsersB[ordersByUsersB['orders'] > np.percentile(ordersByUsers['orders'], 99)]['visitorid'],\n",
    "    ],\n",
    "    axis=0,\n",
    ")\n",
    "usersWithExpensiveOrders = orders[orders['revenue'] > np.percentile(orders['revenue'], 99)]['visitorid']\n",
    "abnormalUsers = (\n",
    "    pd.concat([usersWithManyOrders, usersWithExpensiveOrders], axis=0)\n",
    "    .drop_duplicates()\n",
    "    .sort_values()\n",
    ")\n",
    "abnormalUsers.head(5)\n"
   ]
  },
  {
   "cell_type": "code",
   "execution_count": 30,
   "metadata": {
    "colab": {
     "base_uri": "https://localhost:8080/"
    },
    "id": "4nSynX6dJg_j",
    "outputId": "3fc67609-a507-457e-d231-a32a25fdcecf"
   },
   "outputs": [
    {
     "data": {
      "text/plain": [
       "16"
      ]
     },
     "execution_count": 30,
     "metadata": {},
     "output_type": "execute_result"
    }
   ],
   "source": [
    "abnormalUsers.shape[0]  "
   ]
  },
  {
   "cell_type": "markdown",
   "metadata": {},
   "source": [
    "Всего 16 аномальных пользователей."
   ]
  },
  {
   "cell_type": "code",
   "execution_count": 31,
   "metadata": {},
   "outputs": [
    {
     "data": {
      "text/plain": [
       "1.644398766700925"
      ]
     },
     "execution_count": 31,
     "metadata": {},
     "output_type": "execute_result"
    }
   ],
   "source": [
    "(abnormalUsers.count() / orders['visitorid'].nunique())*100"
   ]
  },
  {
   "cell_type": "markdown",
   "metadata": {},
   "source": [
    "Потери и в относительном выражении после фильтрации 1,6% "
   ]
  },
  {
   "cell_type": "markdown",
   "metadata": {
    "id": "8ecc36eCLsS_"
   },
   "source": [
    "Всего 16 аномальных пользователей. \n",
    "\n",
    "Узнаем, как их действия повлияли на результаты теста. Посчитаем статистическую значимость различий в среднем количестве заказов между группами теста по очищенным данным. Сначала подготовим выборки количества заказов по пользователям по группам теста:"
   ]
  },
  {
   "cell_type": "code",
   "execution_count": 32,
   "metadata": {
    "id": "xE7RQOh4MDDZ"
   },
   "outputs": [],
   "source": [
    "sampleAFiltered = pd.concat(\n",
    "    [\n",
    "        ordersByUsersA[\n",
    "            np.logical_not(ordersByUsersA['visitorid'].isin(abnormalUsers))\n",
    "        ]['orders'],\n",
    "        pd.Series(\n",
    "            0,\n",
    "            index=np.arange(\n",
    "                data['visitorsPerDateA'].sum() - len(ordersByUsersA['orders'])\n",
    "            ),\n",
    "            name='orders',\n",
    "        ),\n",
    "    ],\n",
    "    axis=0,\n",
    ")\n",
    "\n",
    "sampleBFiltered = pd.concat(\n",
    "    [\n",
    "        ordersByUsersB[\n",
    "            np.logical_not(ordersByUsersB['visitorid'].isin(abnormalUsers))\n",
    "        ]['orders'],\n",
    "        pd.Series(\n",
    "            0,\n",
    "            index=np.arange(\n",
    "                data['visitorsPerDateB'].sum() - len(ordersByUsersB['orders'])\n",
    "            ),\n",
    "            name='orders',\n",
    "        ),\n",
    "    ],\n",
    "    axis=0,\n",
    ") "
   ]
  },
  {
   "cell_type": "markdown",
   "metadata": {
    "id": "3Gh5zXG2Mu3y"
   },
   "source": [
    "Применим статистический критерий Манна-Уитни к полученным выборкам:\n",
    "\n",
    "P-value возьмем равным 0.05"
   ]
  },
  {
   "cell_type": "code",
   "execution_count": 33,
   "metadata": {
    "colab": {
     "base_uri": "https://localhost:8080/"
    },
    "id": "Q6rvi73YMpuo",
    "outputId": "127627f0-27b2-4115-a81f-6fafec506f32"
   },
   "outputs": [
    {
     "name": "stdout",
     "output_type": "stream",
     "text": [
      "P-value: 0.007\n",
      "Относительный прирост В к А: 0.189\n"
     ]
    }
   ],
   "source": [
    "print('P-value: {0:.3f}'.format(stats.mannwhitneyu(sampleAFiltered, sampleBFiltered)[1]))\n",
    "print('Относительный прирост В к А: {0:.3f}'.format(sampleBFiltered.mean()/sampleAFiltered.mean()-1)) "
   ]
  },
  {
   "cell_type": "markdown",
   "metadata": {
    "id": "DZrVWlDANVff"
   },
   "source": [
    "Вывод: По «очищенным» данным так же есть различия в среднем числе заказов групп A и B. Первое число — p-value = 0.007 меньше 0.05. Значит, нулевую гипотезу о том, что статистически значимых различий в среднем числе заказов на посетителя между группами нет, отвергаем. Сегмент В лучше Сегмента А. Относительный выигрыш группы B равен 18.9% — второе число в выводе. "
   ]
  },
  {
   "cell_type": "markdown",
   "metadata": {
    "id": "P5kRc-6uOi-X"
   },
   "source": [
    "13. Посчитаем статистическую значимость различий в среднем чеке заказа между группами по «очищенным» данным\n",
    "\n",
    "P-value возьмем равным 0.05"
   ]
  },
  {
   "cell_type": "code",
   "execution_count": 34,
   "metadata": {
    "colab": {
     "base_uri": "https://localhost:8080/"
    },
    "id": "6865usOcMvuQ",
    "outputId": "acc55f79-7049-4072-e698-d5bc35992b60"
   },
   "outputs": [
    {
     "name": "stdout",
     "output_type": "stream",
     "text": [
      "P-value: 0.788\n",
      "Относительный прирост В к А:  -0.032\n"
     ]
    }
   ],
   "source": [
    "print('P-value: {0:.3f}'.format(\n",
    "        stats.mannwhitneyu(\n",
    "            orders[\n",
    "                np.logical_and(\n",
    "                    orders['group'] == 'A',\n",
    "                    np.logical_not(orders['visitorid'].isin(abnormalUsers)),\n",
    "                )\n",
    "            ]['revenue'],\n",
    "            orders[\n",
    "                np.logical_and(\n",
    "                    orders['group'] == 'B',\n",
    "                    np.logical_not(orders['visitorid'].isin(abnormalUsers)),\n",
    "                )\n",
    "            ]['revenue'],\n",
    "        )[1]\n",
    "    )\n",
    ")\n",
    "\n",
    "print(\"Относительный прирост В к А:  {0:.3f}\".format(\n",
    "        orders[\n",
    "            np.logical_and(\n",
    "                orders['group'] == 'B',\n",
    "                np.logical_not(orders['visitorid'].isin(abnormalUsers)),\n",
    "            )\n",
    "        ]['revenue'].mean()\n",
    "        / orders[\n",
    "            np.logical_and(\n",
    "                orders['group'] == 'A',\n",
    "                np.logical_not(orders['visitorid'].isin(abnormalUsers)),\n",
    "            )\n",
    "        ]['revenue'].mean()\n",
    "        - 1\n",
    "    )\n",
    ") "
   ]
  },
  {
   "cell_type": "markdown",
   "metadata": {
    "id": "Gt1wXTV1PKlF"
   },
   "source": [
    "Первое число — p-value  0.788 так же значительно больше 0.05. Значит, причин отвергать нулевую гипотезу и считать, что в среднем чеке есть различия, нет. Обратим внимаение что после очистки данных средний чек группы B стал незначительно меньше среднего чека группы A."
   ]
  },
  {
   "cell_type": "markdown",
   "metadata": {
    "id": "CsX2fBpUQLrq"
   },
   "source": [
    "# Выводы\n",
    "\n",
    "В Части 1. Приоритизация гипотез нам удалось выявить следующие гипотезы требующие проработки отделом Маркетинга в первую очередь:\n",
    "*  Запустить акцию, дающую скидку на товар в день рождения,\n",
    "*  Добавить два новых канала привлечения трафика, что позволит привлекать на 30% больше пользователей\n",
    "*  Добавить форму подписки на все основные страницы, чтобы собрать базу клиентов для email-рассылок\n",
    "*   Показать на главной странице баннеры с актуальными акциями и распродажами, чтобы увеличить конверсию\n",
    "\n",
    "Если учитывать охват пользователей то в первую очередь стоит обратить внимание на сл. гипотезы:\n",
    "\n",
    "* Добавить форму подписки на все основные страницы, чтобы собрать базу клиентов для email-рассылок\n",
    "*\tДобавить блоки рекомендаций товаров на сайт интернет магазина, чтобы повысить конверсию и средний чек заказа\t\n",
    "*\tДобавить два новых канала привлечения трафика, что позволит привлекать на 30% больше пользователей\t\n",
    "*\tПоказать на главной странице баннеры с актуальными акциями и распродажами, чтобы увеличить конверсию\n",
    "\n",
    "В Части 2. Анализ A/B-теста, нам удалось сделать сл. выводы:\n",
    "\n",
    "По результатам проведенного A/B-теста мы выяснили, что группа B оказалась победителем. Cреднее количество заказов на посетителя между группами B и чем в группой А было выше примерно на 16-19% в пользу группы В. Это означает, что мы можем с большой уверенностью утверждать, что изменения, внесенные в группу B, оказали положительное влияние.  Хотя аномальные пользователи существенно повлияли на средний чек,cтатистически значимого различия по среднему чеку между группами не наблюдается ни по \"сырым\" ни по \"очищенным\" данным. Тенденции к улучшению результатов по группе А нет и соответственно мы можем остановить тест, зафиксировать победу группы В.\n",
    "\n",
    "Таким образом, мы рекомендуем использовать изменения, внесенные в группу В, в качестве основы для дальнейшего развития интернет-магазина. Однако, мы также рекомендуем провести дополнительные тесты, чтобы убедиться в стабильности результатов и возможности их повторения в будущем.\n",
    "\n",
    "\n",
    "\n",
    "\n",
    "\n",
    "\n"
   ]
  }
 ],
 "metadata": {
  "ExecuteTimeLog": [
   {
    "duration": 1339,
    "start_time": "2023-03-21T12:52:08.576Z"
   },
   {
    "duration": 3,
    "start_time": "2023-03-21T12:52:09.918Z"
   },
   {
    "duration": 125,
    "start_time": "2023-03-21T12:52:09.923Z"
   },
   {
    "duration": 35,
    "start_time": "2023-03-21T12:52:10.055Z"
   },
   {
    "duration": 19,
    "start_time": "2023-03-21T12:52:10.093Z"
   },
   {
    "duration": 36,
    "start_time": "2023-03-21T12:52:10.114Z"
   },
   {
    "duration": 24,
    "start_time": "2023-03-21T12:52:10.152Z"
   },
   {
    "duration": 14,
    "start_time": "2023-03-21T12:52:10.178Z"
   },
   {
    "duration": 24,
    "start_time": "2023-03-21T12:52:10.195Z"
   },
   {
    "duration": 20,
    "start_time": "2023-03-21T12:52:10.221Z"
   },
   {
    "duration": 374,
    "start_time": "2023-03-21T12:52:10.242Z"
   },
   {
    "duration": 379,
    "start_time": "2023-03-21T12:52:10.618Z"
   },
   {
    "duration": 310,
    "start_time": "2023-03-21T12:52:10.999Z"
   },
   {
    "duration": 403,
    "start_time": "2023-03-21T12:52:11.313Z"
   },
   {
    "duration": 421,
    "start_time": "2023-03-21T12:52:11.718Z"
   },
   {
    "duration": 425,
    "start_time": "2023-03-21T12:52:12.144Z"
   },
   {
    "duration": 197,
    "start_time": "2023-03-21T12:52:12.572Z"
   },
   {
    "duration": 6,
    "start_time": "2023-03-21T12:52:12.771Z"
   },
   {
    "duration": 263,
    "start_time": "2023-03-21T12:52:12.779Z"
   },
   {
    "duration": 19,
    "start_time": "2023-03-21T12:52:13.046Z"
   },
   {
    "duration": 13,
    "start_time": "2023-03-21T12:52:13.067Z"
   },
   {
    "duration": 378,
    "start_time": "2023-03-21T12:52:13.082Z"
   },
   {
    "duration": 176,
    "start_time": "2023-03-21T12:52:13.463Z"
   },
   {
    "duration": 11,
    "start_time": "2023-03-21T12:52:13.643Z"
   },
   {
    "duration": 40,
    "start_time": "2023-03-21T12:52:13.658Z"
   },
   {
    "duration": 13,
    "start_time": "2023-03-21T12:52:13.700Z"
   },
   {
    "duration": 47,
    "start_time": "2023-03-21T12:52:13.714Z"
   },
   {
    "duration": 5,
    "start_time": "2023-03-21T12:52:13.763Z"
   },
   {
    "duration": 11,
    "start_time": "2023-03-21T12:52:13.771Z"
   },
   {
    "duration": 22,
    "start_time": "2023-03-21T12:52:13.784Z"
   },
   {
    "duration": 15,
    "start_time": "2023-03-21T12:52:13.807Z"
   },
   {
    "duration": 51,
    "start_time": "2023-03-21T13:02:59.284Z"
   },
   {
    "duration": 68,
    "start_time": "2023-03-21T13:03:13.491Z"
   },
   {
    "duration": 42,
    "start_time": "2023-03-21T13:03:37.395Z"
   },
   {
    "duration": 264,
    "start_time": "2023-03-21T13:03:49.607Z"
   },
   {
    "duration": 46,
    "start_time": "2023-03-21T13:04:10.523Z"
   },
   {
    "duration": 1330,
    "start_time": "2023-03-21T13:04:52.207Z"
   },
   {
    "duration": 2,
    "start_time": "2023-03-21T13:04:53.540Z"
   },
   {
    "duration": 275,
    "start_time": "2023-03-21T13:04:53.544Z"
   },
   {
    "duration": 21,
    "start_time": "2023-03-21T13:04:53.821Z"
   },
   {
    "duration": 22,
    "start_time": "2023-03-21T13:04:53.844Z"
   },
   {
    "duration": 25,
    "start_time": "2023-03-21T13:04:53.868Z"
   },
   {
    "duration": 21,
    "start_time": "2023-03-21T13:04:53.895Z"
   },
   {
    "duration": 24,
    "start_time": "2023-03-21T13:04:53.918Z"
   },
   {
    "duration": 27,
    "start_time": "2023-03-21T13:04:53.944Z"
   },
   {
    "duration": 18,
    "start_time": "2023-03-21T13:04:53.975Z"
   },
   {
    "duration": 812,
    "start_time": "2023-03-21T13:04:53.995Z"
   },
   {
    "duration": 0,
    "start_time": "2023-03-21T13:04:54.810Z"
   },
   {
    "duration": 0,
    "start_time": "2023-03-21T13:04:54.812Z"
   },
   {
    "duration": 0,
    "start_time": "2023-03-21T13:04:54.814Z"
   },
   {
    "duration": 0,
    "start_time": "2023-03-21T13:04:54.816Z"
   },
   {
    "duration": 0,
    "start_time": "2023-03-21T13:04:54.817Z"
   },
   {
    "duration": 0,
    "start_time": "2023-03-21T13:04:54.819Z"
   },
   {
    "duration": 0,
    "start_time": "2023-03-21T13:04:54.820Z"
   },
   {
    "duration": 0,
    "start_time": "2023-03-21T13:04:54.822Z"
   },
   {
    "duration": 0,
    "start_time": "2023-03-21T13:04:54.823Z"
   },
   {
    "duration": 0,
    "start_time": "2023-03-21T13:04:54.825Z"
   },
   {
    "duration": 0,
    "start_time": "2023-03-21T13:04:54.826Z"
   },
   {
    "duration": 0,
    "start_time": "2023-03-21T13:04:54.828Z"
   },
   {
    "duration": 0,
    "start_time": "2023-03-21T13:04:54.829Z"
   },
   {
    "duration": 1,
    "start_time": "2023-03-21T13:04:54.830Z"
   },
   {
    "duration": 0,
    "start_time": "2023-03-21T13:04:54.831Z"
   },
   {
    "duration": 0,
    "start_time": "2023-03-21T13:04:54.833Z"
   },
   {
    "duration": 0,
    "start_time": "2023-03-21T13:04:54.834Z"
   },
   {
    "duration": 0,
    "start_time": "2023-03-21T13:04:54.835Z"
   },
   {
    "duration": 0,
    "start_time": "2023-03-21T13:04:54.836Z"
   },
   {
    "duration": 0,
    "start_time": "2023-03-21T13:04:54.837Z"
   },
   {
    "duration": 0,
    "start_time": "2023-03-21T13:04:54.839Z"
   },
   {
    "duration": 333,
    "start_time": "2023-03-21T13:05:19.475Z"
   },
   {
    "duration": 11,
    "start_time": "2023-03-21T14:33:47.349Z"
   },
   {
    "duration": 1177,
    "start_time": "2023-03-21T14:34:38.528Z"
   },
   {
    "duration": 3,
    "start_time": "2023-03-21T14:34:39.707Z"
   },
   {
    "duration": 104,
    "start_time": "2023-03-21T14:34:39.711Z"
   },
   {
    "duration": 21,
    "start_time": "2023-03-21T14:34:39.817Z"
   },
   {
    "duration": 18,
    "start_time": "2023-03-21T14:34:39.840Z"
   },
   {
    "duration": 20,
    "start_time": "2023-03-21T14:34:39.860Z"
   },
   {
    "duration": 25,
    "start_time": "2023-03-21T14:34:39.883Z"
   },
   {
    "duration": 12,
    "start_time": "2023-03-21T14:34:39.910Z"
   },
   {
    "duration": 17,
    "start_time": "2023-03-21T14:34:39.924Z"
   },
   {
    "duration": 11,
    "start_time": "2023-03-21T14:34:39.943Z"
   },
   {
    "duration": 369,
    "start_time": "2023-03-21T14:34:39.955Z"
   },
   {
    "duration": 335,
    "start_time": "2023-03-21T14:34:40.325Z"
   },
   {
    "duration": 370,
    "start_time": "2023-03-21T14:34:40.661Z"
   },
   {
    "duration": 278,
    "start_time": "2023-03-21T14:34:41.034Z"
   },
   {
    "duration": 366,
    "start_time": "2023-03-21T14:34:41.313Z"
   },
   {
    "duration": 366,
    "start_time": "2023-03-21T14:34:41.681Z"
   },
   {
    "duration": 386,
    "start_time": "2023-03-21T14:34:42.049Z"
   },
   {
    "duration": 189,
    "start_time": "2023-03-21T14:34:42.437Z"
   },
   {
    "duration": 5,
    "start_time": "2023-03-21T14:34:42.628Z"
   },
   {
    "duration": 208,
    "start_time": "2023-03-21T14:34:42.635Z"
   },
   {
    "duration": 8,
    "start_time": "2023-03-21T14:34:42.845Z"
   },
   {
    "duration": 6,
    "start_time": "2023-03-21T14:34:42.855Z"
   },
   {
    "duration": 345,
    "start_time": "2023-03-21T14:34:42.863Z"
   },
   {
    "duration": 175,
    "start_time": "2023-03-21T14:34:43.210Z"
   },
   {
    "duration": 20,
    "start_time": "2023-03-21T14:34:43.387Z"
   },
   {
    "duration": 39,
    "start_time": "2023-03-21T14:34:43.409Z"
   },
   {
    "duration": 15,
    "start_time": "2023-03-21T14:34:43.452Z"
   },
   {
    "duration": 39,
    "start_time": "2023-03-21T14:34:43.469Z"
   },
   {
    "duration": 5,
    "start_time": "2023-03-21T14:34:43.510Z"
   },
   {
    "duration": 11,
    "start_time": "2023-03-21T14:34:43.517Z"
   },
   {
    "duration": 25,
    "start_time": "2023-03-21T14:34:43.531Z"
   },
   {
    "duration": 54,
    "start_time": "2023-03-21T14:34:43.558Z"
   },
   {
    "duration": 4,
    "start_time": "2023-03-21T14:46:25.246Z"
   },
   {
    "duration": 10,
    "start_time": "2023-03-21T14:46:31.648Z"
   },
   {
    "duration": 115,
    "start_time": "2023-03-21T14:46:44.372Z"
   },
   {
    "duration": 16,
    "start_time": "2023-03-21T14:47:13.484Z"
   },
   {
    "duration": 18,
    "start_time": "2023-03-21T14:47:29.518Z"
   },
   {
    "duration": 15,
    "start_time": "2023-03-21T14:49:04.332Z"
   },
   {
    "duration": 12,
    "start_time": "2023-03-21T14:49:13.042Z"
   },
   {
    "duration": 12,
    "start_time": "2023-03-21T14:49:15.240Z"
   },
   {
    "duration": 17,
    "start_time": "2023-03-21T14:50:16.972Z"
   },
   {
    "duration": 16,
    "start_time": "2023-03-21T14:51:06.432Z"
   },
   {
    "duration": 14,
    "start_time": "2023-03-21T14:51:21.820Z"
   },
   {
    "duration": 12,
    "start_time": "2023-03-21T14:58:12.637Z"
   },
   {
    "duration": 13,
    "start_time": "2023-03-21T14:58:15.447Z"
   },
   {
    "duration": 12,
    "start_time": "2023-03-21T14:58:17.584Z"
   },
   {
    "duration": 11,
    "start_time": "2023-03-21T14:59:16.895Z"
   },
   {
    "duration": 7,
    "start_time": "2023-03-21T14:59:24.599Z"
   },
   {
    "duration": 8,
    "start_time": "2023-03-21T14:59:46.133Z"
   },
   {
    "duration": 4,
    "start_time": "2023-03-21T15:00:18.987Z"
   },
   {
    "duration": 4,
    "start_time": "2023-03-21T15:01:34.350Z"
   },
   {
    "duration": 6,
    "start_time": "2023-03-21T15:01:42.950Z"
   },
   {
    "duration": 1256,
    "start_time": "2023-03-21T15:01:49.570Z"
   },
   {
    "duration": 2,
    "start_time": "2023-03-21T15:01:50.828Z"
   },
   {
    "duration": 106,
    "start_time": "2023-03-21T15:01:50.832Z"
   },
   {
    "duration": 21,
    "start_time": "2023-03-21T15:01:50.939Z"
   },
   {
    "duration": 17,
    "start_time": "2023-03-21T15:01:50.963Z"
   },
   {
    "duration": 20,
    "start_time": "2023-03-21T15:01:50.982Z"
   },
   {
    "duration": 6,
    "start_time": "2023-03-21T15:01:51.004Z"
   },
   {
    "duration": 36,
    "start_time": "2023-03-21T15:01:51.012Z"
   },
   {
    "duration": 21,
    "start_time": "2023-03-21T15:01:51.050Z"
   },
   {
    "duration": 15,
    "start_time": "2023-03-21T15:01:51.074Z"
   },
   {
    "duration": 351,
    "start_time": "2023-03-21T15:01:51.091Z"
   },
   {
    "duration": 7,
    "start_time": "2023-03-21T15:01:51.444Z"
   },
   {
    "duration": 8,
    "start_time": "2023-03-21T15:01:51.452Z"
   },
   {
    "duration": 360,
    "start_time": "2023-03-21T15:01:51.463Z"
   },
   {
    "duration": 396,
    "start_time": "2023-03-21T15:01:51.825Z"
   },
   {
    "duration": 271,
    "start_time": "2023-03-21T15:01:52.223Z"
   },
   {
    "duration": 355,
    "start_time": "2023-03-21T15:01:52.496Z"
   },
   {
    "duration": 298,
    "start_time": "2023-03-21T15:01:52.853Z"
   },
   {
    "duration": 350,
    "start_time": "2023-03-21T15:01:53.153Z"
   },
   {
    "duration": 216,
    "start_time": "2023-03-21T15:01:53.505Z"
   },
   {
    "duration": 5,
    "start_time": "2023-03-21T15:01:53.723Z"
   },
   {
    "duration": 209,
    "start_time": "2023-03-21T15:01:53.730Z"
   },
   {
    "duration": 9,
    "start_time": "2023-03-21T15:01:53.941Z"
   },
   {
    "duration": 7,
    "start_time": "2023-03-21T15:01:53.952Z"
   },
   {
    "duration": 360,
    "start_time": "2023-03-21T15:01:53.961Z"
   },
   {
    "duration": 149,
    "start_time": "2023-03-21T15:01:54.323Z"
   },
   {
    "duration": 7,
    "start_time": "2023-03-21T15:01:54.474Z"
   },
   {
    "duration": 41,
    "start_time": "2023-03-21T15:01:54.482Z"
   },
   {
    "duration": 12,
    "start_time": "2023-03-21T15:01:54.525Z"
   },
   {
    "duration": 12,
    "start_time": "2023-03-21T15:01:54.538Z"
   },
   {
    "duration": 4,
    "start_time": "2023-03-21T15:01:54.551Z"
   },
   {
    "duration": 11,
    "start_time": "2023-03-21T15:01:54.557Z"
   },
   {
    "duration": 58,
    "start_time": "2023-03-21T15:01:54.570Z"
   },
   {
    "duration": 14,
    "start_time": "2023-03-21T15:01:54.630Z"
   },
   {
    "duration": 291,
    "start_time": "2023-03-21T15:04:08.099Z"
   },
   {
    "duration": 290,
    "start_time": "2023-03-21T15:04:16.104Z"
   },
   {
    "duration": 1226,
    "start_time": "2023-03-21T15:04:51.988Z"
   },
   {
    "duration": 3,
    "start_time": "2023-03-21T15:04:53.216Z"
   },
   {
    "duration": 100,
    "start_time": "2023-03-21T15:04:53.220Z"
   },
   {
    "duration": 20,
    "start_time": "2023-03-21T15:04:53.322Z"
   },
   {
    "duration": 41,
    "start_time": "2023-03-21T15:04:53.345Z"
   },
   {
    "duration": 6,
    "start_time": "2023-03-21T15:04:53.388Z"
   },
   {
    "duration": 19,
    "start_time": "2023-03-21T15:04:53.395Z"
   },
   {
    "duration": 11,
    "start_time": "2023-03-21T15:04:53.416Z"
   },
   {
    "duration": 16,
    "start_time": "2023-03-21T15:04:53.428Z"
   },
   {
    "duration": 17,
    "start_time": "2023-03-21T15:04:53.446Z"
   },
   {
    "duration": 339,
    "start_time": "2023-03-21T15:04:53.465Z"
   },
   {
    "duration": 8,
    "start_time": "2023-03-21T15:04:53.806Z"
   },
   {
    "duration": 15,
    "start_time": "2023-03-21T15:04:53.815Z"
   },
   {
    "duration": 340,
    "start_time": "2023-03-21T15:04:53.833Z"
   },
   {
    "duration": 358,
    "start_time": "2023-03-21T15:04:54.174Z"
   },
   {
    "duration": 285,
    "start_time": "2023-03-21T15:04:54.534Z"
   },
   {
    "duration": 354,
    "start_time": "2023-03-21T15:04:54.821Z"
   },
   {
    "duration": 303,
    "start_time": "2023-03-21T15:04:55.176Z"
   },
   {
    "duration": 384,
    "start_time": "2023-03-21T15:04:55.481Z"
   },
   {
    "duration": 208,
    "start_time": "2023-03-21T15:04:55.867Z"
   },
   {
    "duration": 6,
    "start_time": "2023-03-21T15:04:56.077Z"
   },
   {
    "duration": 203,
    "start_time": "2023-03-21T15:04:56.085Z"
   },
   {
    "duration": 19,
    "start_time": "2023-03-21T15:04:56.290Z"
   },
   {
    "duration": 6,
    "start_time": "2023-03-21T15:04:56.310Z"
   },
   {
    "duration": 331,
    "start_time": "2023-03-21T15:04:56.318Z"
   },
   {
    "duration": 141,
    "start_time": "2023-03-21T15:04:56.651Z"
   },
   {
    "duration": 10,
    "start_time": "2023-03-21T15:04:56.794Z"
   },
   {
    "duration": 29,
    "start_time": "2023-03-21T15:04:56.806Z"
   },
   {
    "duration": 11,
    "start_time": "2023-03-21T15:04:56.837Z"
   },
   {
    "duration": 15,
    "start_time": "2023-03-21T15:04:56.849Z"
   },
   {
    "duration": 6,
    "start_time": "2023-03-21T15:04:56.865Z"
   },
   {
    "duration": 41,
    "start_time": "2023-03-21T15:04:56.873Z"
   },
   {
    "duration": 23,
    "start_time": "2023-03-21T15:04:56.916Z"
   },
   {
    "duration": 16,
    "start_time": "2023-03-21T15:04:56.941Z"
   },
   {
    "duration": 1191,
    "start_time": "2023-03-21T15:09:19.445Z"
   },
   {
    "duration": 3,
    "start_time": "2023-03-21T15:09:20.638Z"
   },
   {
    "duration": 101,
    "start_time": "2023-03-21T15:09:20.643Z"
   },
   {
    "duration": 20,
    "start_time": "2023-03-21T15:09:20.746Z"
   },
   {
    "duration": 17,
    "start_time": "2023-03-21T15:09:20.768Z"
   },
   {
    "duration": 6,
    "start_time": "2023-03-21T15:09:20.787Z"
   },
   {
    "duration": 12,
    "start_time": "2023-03-21T15:09:20.795Z"
   },
   {
    "duration": 8,
    "start_time": "2023-03-21T15:09:20.809Z"
   },
   {
    "duration": 12,
    "start_time": "2023-03-21T15:09:20.818Z"
   },
   {
    "duration": 11,
    "start_time": "2023-03-21T15:09:20.833Z"
   },
   {
    "duration": 369,
    "start_time": "2023-03-21T15:09:20.845Z"
   },
   {
    "duration": 2,
    "start_time": "2023-03-21T15:09:21.216Z"
   },
   {
    "duration": 20,
    "start_time": "2023-03-21T15:09:21.220Z"
   },
   {
    "duration": 324,
    "start_time": "2023-03-21T15:09:21.241Z"
   },
   {
    "duration": 381,
    "start_time": "2023-03-21T15:09:21.567Z"
   },
   {
    "duration": 281,
    "start_time": "2023-03-21T15:09:21.950Z"
   },
   {
    "duration": 333,
    "start_time": "2023-03-21T15:09:22.233Z"
   },
   {
    "duration": 284,
    "start_time": "2023-03-21T15:09:22.567Z"
   },
   {
    "duration": 338,
    "start_time": "2023-03-21T15:09:22.853Z"
   },
   {
    "duration": 213,
    "start_time": "2023-03-21T15:09:23.192Z"
   },
   {
    "duration": 5,
    "start_time": "2023-03-21T15:09:23.407Z"
   },
   {
    "duration": 207,
    "start_time": "2023-03-21T15:09:23.414Z"
   },
   {
    "duration": 8,
    "start_time": "2023-03-21T15:09:23.623Z"
   },
   {
    "duration": 6,
    "start_time": "2023-03-21T15:09:23.633Z"
   },
   {
    "duration": 340,
    "start_time": "2023-03-21T15:09:23.641Z"
   },
   {
    "duration": 158,
    "start_time": "2023-03-21T15:09:23.983Z"
   },
   {
    "duration": 6,
    "start_time": "2023-03-21T15:09:24.143Z"
   },
   {
    "duration": 27,
    "start_time": "2023-03-21T15:09:24.152Z"
   },
   {
    "duration": 24,
    "start_time": "2023-03-21T15:09:24.181Z"
   },
   {
    "duration": 12,
    "start_time": "2023-03-21T15:09:24.207Z"
   },
   {
    "duration": 3,
    "start_time": "2023-03-21T15:09:24.221Z"
   },
   {
    "duration": 8,
    "start_time": "2023-03-21T15:09:24.226Z"
   },
   {
    "duration": 22,
    "start_time": "2023-03-21T15:09:24.235Z"
   },
   {
    "duration": 44,
    "start_time": "2023-03-21T15:09:24.259Z"
   },
   {
    "duration": 1240,
    "start_time": "2023-03-21T15:10:55.898Z"
   },
   {
    "duration": 3,
    "start_time": "2023-03-21T15:10:57.140Z"
   },
   {
    "duration": 98,
    "start_time": "2023-03-21T15:10:57.144Z"
   },
   {
    "duration": 19,
    "start_time": "2023-03-21T15:10:57.244Z"
   },
   {
    "duration": 16,
    "start_time": "2023-03-21T15:10:57.265Z"
   },
   {
    "duration": 7,
    "start_time": "2023-03-21T15:10:57.283Z"
   },
   {
    "duration": 23,
    "start_time": "2023-03-21T15:10:57.291Z"
   },
   {
    "duration": 10,
    "start_time": "2023-03-21T15:10:57.316Z"
   },
   {
    "duration": 14,
    "start_time": "2023-03-21T15:10:57.327Z"
   },
   {
    "duration": 21,
    "start_time": "2023-03-21T15:10:57.344Z"
   },
   {
    "duration": 5,
    "start_time": "2023-03-21T15:10:57.367Z"
   },
   {
    "duration": 341,
    "start_time": "2023-03-21T15:10:57.374Z"
   },
   {
    "duration": 2,
    "start_time": "2023-03-21T15:10:57.716Z"
   },
   {
    "duration": 8,
    "start_time": "2023-03-21T15:10:57.720Z"
   },
   {
    "duration": 338,
    "start_time": "2023-03-21T15:10:57.729Z"
   },
   {
    "duration": 334,
    "start_time": "2023-03-21T15:10:58.068Z"
   },
   {
    "duration": 253,
    "start_time": "2023-03-21T15:10:58.404Z"
   },
   {
    "duration": 331,
    "start_time": "2023-03-21T15:10:58.659Z"
   },
   {
    "duration": 287,
    "start_time": "2023-03-21T15:10:58.992Z"
   },
   {
    "duration": 381,
    "start_time": "2023-03-21T15:10:59.281Z"
   },
   {
    "duration": 211,
    "start_time": "2023-03-21T15:10:59.664Z"
   },
   {
    "duration": 5,
    "start_time": "2023-03-21T15:10:59.877Z"
   },
   {
    "duration": 204,
    "start_time": "2023-03-21T15:10:59.884Z"
   },
   {
    "duration": 16,
    "start_time": "2023-03-21T15:11:00.091Z"
   },
   {
    "duration": 10,
    "start_time": "2023-03-21T15:11:00.109Z"
   },
   {
    "duration": 330,
    "start_time": "2023-03-21T15:11:00.121Z"
   },
   {
    "duration": 159,
    "start_time": "2023-03-21T15:11:00.453Z"
   },
   {
    "duration": 9,
    "start_time": "2023-03-21T15:11:00.615Z"
   },
   {
    "duration": 32,
    "start_time": "2023-03-21T15:11:00.626Z"
   },
   {
    "duration": 12,
    "start_time": "2023-03-21T15:11:00.659Z"
   },
   {
    "duration": 30,
    "start_time": "2023-03-21T15:11:00.673Z"
   },
   {
    "duration": 32,
    "start_time": "2023-03-21T15:11:00.705Z"
   },
   {
    "duration": 27,
    "start_time": "2023-03-21T15:11:00.739Z"
   },
   {
    "duration": 71,
    "start_time": "2023-03-21T15:11:00.768Z"
   },
   {
    "duration": 37,
    "start_time": "2023-03-21T15:11:00.841Z"
   },
   {
    "duration": 295,
    "start_time": "2023-03-21T15:15:47.824Z"
   },
   {
    "duration": 1322,
    "start_time": "2023-03-21T15:15:59.573Z"
   },
   {
    "duration": 2,
    "start_time": "2023-03-21T15:16:00.897Z"
   },
   {
    "duration": 162,
    "start_time": "2023-03-21T15:16:00.906Z"
   },
   {
    "duration": 29,
    "start_time": "2023-03-21T15:16:01.070Z"
   },
   {
    "duration": 63,
    "start_time": "2023-03-21T15:16:01.102Z"
   },
   {
    "duration": 78,
    "start_time": "2023-03-21T15:16:01.167Z"
   },
   {
    "duration": 30,
    "start_time": "2023-03-21T15:16:01.248Z"
   },
   {
    "duration": 43,
    "start_time": "2023-03-21T15:16:01.280Z"
   },
   {
    "duration": 33,
    "start_time": "2023-03-21T15:16:01.327Z"
   },
   {
    "duration": 23,
    "start_time": "2023-03-21T15:16:01.362Z"
   },
   {
    "duration": 369,
    "start_time": "2023-03-21T15:16:01.386Z"
   },
   {
    "duration": 156,
    "start_time": "2023-03-21T15:16:01.757Z"
   },
   {
    "duration": 0,
    "start_time": "2023-03-21T15:16:01.916Z"
   },
   {
    "duration": 0,
    "start_time": "2023-03-21T15:16:01.918Z"
   },
   {
    "duration": 0,
    "start_time": "2023-03-21T15:16:01.920Z"
   },
   {
    "duration": 0,
    "start_time": "2023-03-21T15:16:01.921Z"
   },
   {
    "duration": 0,
    "start_time": "2023-03-21T15:16:01.923Z"
   },
   {
    "duration": 0,
    "start_time": "2023-03-21T15:16:01.924Z"
   },
   {
    "duration": 0,
    "start_time": "2023-03-21T15:16:01.926Z"
   },
   {
    "duration": 0,
    "start_time": "2023-03-21T15:16:01.928Z"
   },
   {
    "duration": 0,
    "start_time": "2023-03-21T15:16:01.929Z"
   },
   {
    "duration": 0,
    "start_time": "2023-03-21T15:16:01.931Z"
   },
   {
    "duration": 0,
    "start_time": "2023-03-21T15:16:01.933Z"
   },
   {
    "duration": 0,
    "start_time": "2023-03-21T15:16:01.934Z"
   },
   {
    "duration": 0,
    "start_time": "2023-03-21T15:16:01.936Z"
   },
   {
    "duration": 0,
    "start_time": "2023-03-21T15:16:01.937Z"
   },
   {
    "duration": 0,
    "start_time": "2023-03-21T15:16:01.939Z"
   },
   {
    "duration": 0,
    "start_time": "2023-03-21T15:16:01.940Z"
   },
   {
    "duration": 0,
    "start_time": "2023-03-21T15:16:01.942Z"
   },
   {
    "duration": 0,
    "start_time": "2023-03-21T15:16:01.943Z"
   },
   {
    "duration": 0,
    "start_time": "2023-03-21T15:16:01.945Z"
   },
   {
    "duration": 0,
    "start_time": "2023-03-21T15:16:01.947Z"
   },
   {
    "duration": 0,
    "start_time": "2023-03-21T15:16:01.948Z"
   },
   {
    "duration": 6,
    "start_time": "2023-03-21T15:16:18.169Z"
   },
   {
    "duration": 1238,
    "start_time": "2023-03-21T15:16:43.594Z"
   },
   {
    "duration": 3,
    "start_time": "2023-03-21T15:16:44.834Z"
   },
   {
    "duration": 96,
    "start_time": "2023-03-21T15:16:44.839Z"
   },
   {
    "duration": 25,
    "start_time": "2023-03-21T15:16:44.938Z"
   },
   {
    "duration": 20,
    "start_time": "2023-03-21T15:16:44.967Z"
   },
   {
    "duration": 16,
    "start_time": "2023-03-21T15:16:44.989Z"
   },
   {
    "duration": 42,
    "start_time": "2023-03-21T15:16:45.007Z"
   },
   {
    "duration": 21,
    "start_time": "2023-03-21T15:16:45.051Z"
   },
   {
    "duration": 17,
    "start_time": "2023-03-21T15:16:45.074Z"
   },
   {
    "duration": 15,
    "start_time": "2023-03-21T15:16:45.093Z"
   },
   {
    "duration": 357,
    "start_time": "2023-03-21T15:16:45.109Z"
   },
   {
    "duration": 6,
    "start_time": "2023-03-21T15:16:45.468Z"
   },
   {
    "duration": 349,
    "start_time": "2023-03-21T15:16:45.475Z"
   },
   {
    "duration": 343,
    "start_time": "2023-03-21T15:16:45.826Z"
   },
   {
    "duration": 260,
    "start_time": "2023-03-21T15:16:46.171Z"
   },
   {
    "duration": 325,
    "start_time": "2023-03-21T15:16:46.433Z"
   },
   {
    "duration": 308,
    "start_time": "2023-03-21T15:16:46.759Z"
   },
   {
    "duration": 380,
    "start_time": "2023-03-21T15:16:47.069Z"
   },
   {
    "duration": 221,
    "start_time": "2023-03-21T15:16:47.451Z"
   },
   {
    "duration": 6,
    "start_time": "2023-03-21T15:16:47.674Z"
   },
   {
    "duration": 199,
    "start_time": "2023-03-21T15:16:47.683Z"
   },
   {
    "duration": 20,
    "start_time": "2023-03-21T15:16:47.884Z"
   },
   {
    "duration": 5,
    "start_time": "2023-03-21T15:16:47.906Z"
   },
   {
    "duration": 358,
    "start_time": "2023-03-21T15:16:47.913Z"
   },
   {
    "duration": 138,
    "start_time": "2023-03-21T15:16:48.273Z"
   },
   {
    "duration": 7,
    "start_time": "2023-03-21T15:16:48.412Z"
   },
   {
    "duration": 23,
    "start_time": "2023-03-21T15:16:48.421Z"
   },
   {
    "duration": 11,
    "start_time": "2023-03-21T15:16:48.446Z"
   },
   {
    "duration": 11,
    "start_time": "2023-03-21T15:16:48.459Z"
   },
   {
    "duration": 35,
    "start_time": "2023-03-21T15:16:48.472Z"
   },
   {
    "duration": 12,
    "start_time": "2023-03-21T15:16:48.509Z"
   },
   {
    "duration": 24,
    "start_time": "2023-03-21T15:16:48.523Z"
   },
   {
    "duration": 15,
    "start_time": "2023-03-21T15:16:48.549Z"
   },
   {
    "duration": 247,
    "start_time": "2023-03-21T15:20:24.283Z"
   },
   {
    "duration": 263,
    "start_time": "2023-03-21T15:20:50.135Z"
   },
   {
    "duration": 344,
    "start_time": "2023-03-21T15:22:42.076Z"
   },
   {
    "duration": 311,
    "start_time": "2023-03-21T15:24:34.950Z"
   },
   {
    "duration": 415,
    "start_time": "2023-03-21T15:27:58.678Z"
   },
   {
    "duration": 386,
    "start_time": "2023-03-21T15:28:19.369Z"
   },
   {
    "duration": 368,
    "start_time": "2023-03-21T15:28:44.568Z"
   },
   {
    "duration": 399,
    "start_time": "2023-03-21T15:28:50.398Z"
   },
   {
    "duration": 378,
    "start_time": "2023-03-21T15:29:06.525Z"
   },
   {
    "duration": 377,
    "start_time": "2023-03-21T15:29:26.422Z"
   },
   {
    "duration": 446,
    "start_time": "2023-03-21T15:29:31.794Z"
   },
   {
    "duration": 46,
    "start_time": "2023-03-21T15:48:10.243Z"
   },
   {
    "duration": 50,
    "start_time": "2023-03-21T15:48:14.819Z"
   },
   {
    "duration": 36,
    "start_time": "2023-03-21T15:51:46.747Z"
   },
   {
    "duration": 39,
    "start_time": "2023-03-21T15:51:55.707Z"
   },
   {
    "duration": 15,
    "start_time": "2023-03-21T15:54:19.523Z"
   },
   {
    "duration": 4,
    "start_time": "2023-03-21T15:55:37.946Z"
   },
   {
    "duration": 4,
    "start_time": "2023-03-21T15:55:43.790Z"
   },
   {
    "duration": 1489,
    "start_time": "2023-03-21T17:27:54.354Z"
   },
   {
    "duration": 3,
    "start_time": "2023-03-21T17:27:55.846Z"
   },
   {
    "duration": 292,
    "start_time": "2023-03-21T17:27:55.850Z"
   },
   {
    "duration": 23,
    "start_time": "2023-03-21T17:27:56.144Z"
   },
   {
    "duration": 18,
    "start_time": "2023-03-21T17:27:56.170Z"
   },
   {
    "duration": 12,
    "start_time": "2023-03-21T17:27:56.190Z"
   },
   {
    "duration": 11,
    "start_time": "2023-03-21T17:27:56.203Z"
   },
   {
    "duration": 12,
    "start_time": "2023-03-21T17:27:56.216Z"
   },
   {
    "duration": 22,
    "start_time": "2023-03-21T17:27:56.230Z"
   },
   {
    "duration": 30,
    "start_time": "2023-03-21T17:27:56.254Z"
   },
   {
    "duration": 351,
    "start_time": "2023-03-21T17:27:56.285Z"
   },
   {
    "duration": 6,
    "start_time": "2023-03-21T17:27:56.638Z"
   },
   {
    "duration": 332,
    "start_time": "2023-03-21T17:27:56.646Z"
   },
   {
    "duration": 366,
    "start_time": "2023-03-21T17:27:56.982Z"
   },
   {
    "duration": 279,
    "start_time": "2023-03-21T17:27:57.350Z"
   },
   {
    "duration": 433,
    "start_time": "2023-03-21T17:27:57.631Z"
   },
   {
    "duration": 289,
    "start_time": "2023-03-21T17:27:58.066Z"
   },
   {
    "duration": 380,
    "start_time": "2023-03-21T17:27:58.357Z"
   },
   {
    "duration": 221,
    "start_time": "2023-03-21T17:27:58.739Z"
   },
   {
    "duration": 6,
    "start_time": "2023-03-21T17:27:58.961Z"
   },
   {
    "duration": 196,
    "start_time": "2023-03-21T17:27:58.969Z"
   },
   {
    "duration": 8,
    "start_time": "2023-03-21T17:27:59.167Z"
   },
   {
    "duration": 22,
    "start_time": "2023-03-21T17:27:59.176Z"
   },
   {
    "duration": 305,
    "start_time": "2023-03-21T17:27:59.200Z"
   },
   {
    "duration": 140,
    "start_time": "2023-03-21T17:27:59.507Z"
   },
   {
    "duration": 7,
    "start_time": "2023-03-21T17:27:59.649Z"
   },
   {
    "duration": 29,
    "start_time": "2023-03-21T17:27:59.658Z"
   },
   {
    "duration": 12,
    "start_time": "2023-03-21T17:27:59.697Z"
   },
   {
    "duration": 15,
    "start_time": "2023-03-21T17:27:59.710Z"
   },
   {
    "duration": 7,
    "start_time": "2023-03-21T17:27:59.726Z"
   },
   {
    "duration": 15,
    "start_time": "2023-03-21T17:27:59.734Z"
   },
   {
    "duration": 25,
    "start_time": "2023-03-21T17:27:59.750Z"
   },
   {
    "duration": 45,
    "start_time": "2023-03-21T17:27:59.777Z"
   },
   {
    "duration": 7,
    "start_time": "2023-03-21T17:31:18.895Z"
   },
   {
    "duration": 5,
    "start_time": "2023-03-21T17:32:32.219Z"
   },
   {
    "duration": 5,
    "start_time": "2023-03-21T17:32:38.497Z"
   },
   {
    "duration": 4,
    "start_time": "2023-03-21T17:32:56.113Z"
   },
   {
    "duration": 5,
    "start_time": "2023-03-21T17:33:15.060Z"
   },
   {
    "duration": 5,
    "start_time": "2023-03-21T17:35:28.515Z"
   },
   {
    "duration": 4,
    "start_time": "2023-03-21T17:35:46.520Z"
   },
   {
    "duration": 5,
    "start_time": "2023-03-21T17:36:45.026Z"
   },
   {
    "duration": 6,
    "start_time": "2023-03-21T17:42:38.255Z"
   },
   {
    "duration": 6,
    "start_time": "2023-03-21T17:43:10.143Z"
   },
   {
    "duration": 26,
    "start_time": "2023-03-21T17:44:05.610Z"
   },
   {
    "duration": 102,
    "start_time": "2023-03-21T17:45:19.120Z"
   },
   {
    "duration": 19,
    "start_time": "2023-03-21T17:45:53.961Z"
   },
   {
    "duration": 85,
    "start_time": "2023-03-21T17:46:55.140Z"
   },
   {
    "duration": 1200,
    "start_time": "2023-03-21T17:59:54.152Z"
   },
   {
    "duration": 3,
    "start_time": "2023-03-21T17:59:55.354Z"
   },
   {
    "duration": 133,
    "start_time": "2023-03-21T17:59:55.358Z"
   },
   {
    "duration": 19,
    "start_time": "2023-03-21T17:59:55.493Z"
   },
   {
    "duration": 34,
    "start_time": "2023-03-21T17:59:55.515Z"
   },
   {
    "duration": 20,
    "start_time": "2023-03-21T17:59:55.551Z"
   },
   {
    "duration": 33,
    "start_time": "2023-03-21T17:59:55.573Z"
   },
   {
    "duration": 22,
    "start_time": "2023-03-21T17:59:55.608Z"
   },
   {
    "duration": 15,
    "start_time": "2023-03-21T17:59:55.631Z"
   },
   {
    "duration": 12,
    "start_time": "2023-03-21T17:59:55.648Z"
   },
   {
    "duration": 348,
    "start_time": "2023-03-21T17:59:55.662Z"
   },
   {
    "duration": 8,
    "start_time": "2023-03-21T17:59:56.012Z"
   },
   {
    "duration": 321,
    "start_time": "2023-03-21T17:59:56.021Z"
   },
   {
    "duration": 349,
    "start_time": "2023-03-21T17:59:56.345Z"
   },
   {
    "duration": 267,
    "start_time": "2023-03-21T17:59:56.696Z"
   },
   {
    "duration": 393,
    "start_time": "2023-03-21T17:59:56.965Z"
   },
   {
    "duration": 304,
    "start_time": "2023-03-21T17:59:57.359Z"
   },
   {
    "duration": 387,
    "start_time": "2023-03-21T17:59:57.665Z"
   },
   {
    "duration": 205,
    "start_time": "2023-03-21T17:59:58.054Z"
   },
   {
    "duration": 6,
    "start_time": "2023-03-21T17:59:58.261Z"
   },
   {
    "duration": 207,
    "start_time": "2023-03-21T17:59:58.269Z"
   },
   {
    "duration": 9,
    "start_time": "2023-03-21T17:59:58.478Z"
   },
   {
    "duration": 5,
    "start_time": "2023-03-21T17:59:58.498Z"
   },
   {
    "duration": 314,
    "start_time": "2023-03-21T17:59:58.505Z"
   },
   {
    "duration": 132,
    "start_time": "2023-03-21T17:59:58.821Z"
   },
   {
    "duration": 7,
    "start_time": "2023-03-21T17:59:58.954Z"
   },
   {
    "duration": 39,
    "start_time": "2023-03-21T17:59:58.962Z"
   },
   {
    "duration": 10,
    "start_time": "2023-03-21T17:59:59.003Z"
   },
   {
    "duration": 11,
    "start_time": "2023-03-21T17:59:59.015Z"
   },
   {
    "duration": 15,
    "start_time": "2023-03-21T17:59:59.028Z"
   },
   {
    "duration": 7,
    "start_time": "2023-03-21T17:59:59.044Z"
   },
   {
    "duration": 13,
    "start_time": "2023-03-21T17:59:59.053Z"
   },
   {
    "duration": 42,
    "start_time": "2023-03-21T17:59:59.067Z"
   },
   {
    "duration": 14,
    "start_time": "2023-03-21T17:59:59.111Z"
   },
   {
    "duration": 1192,
    "start_time": "2023-03-22T16:14:41.811Z"
   },
   {
    "duration": 3,
    "start_time": "2023-03-22T16:14:43.005Z"
   },
   {
    "duration": 93,
    "start_time": "2023-03-22T16:14:43.009Z"
   },
   {
    "duration": 19,
    "start_time": "2023-03-22T16:14:43.103Z"
   },
   {
    "duration": 15,
    "start_time": "2023-03-22T16:14:43.124Z"
   },
   {
    "duration": 6,
    "start_time": "2023-03-22T16:14:43.141Z"
   },
   {
    "duration": 15,
    "start_time": "2023-03-22T16:14:43.149Z"
   },
   {
    "duration": 8,
    "start_time": "2023-03-22T16:14:43.166Z"
   },
   {
    "duration": 12,
    "start_time": "2023-03-22T16:14:43.176Z"
   },
   {
    "duration": 11,
    "start_time": "2023-03-22T16:14:43.191Z"
   },
   {
    "duration": 355,
    "start_time": "2023-03-22T16:14:43.203Z"
   },
   {
    "duration": 6,
    "start_time": "2023-03-22T16:14:43.561Z"
   },
   {
    "duration": 322,
    "start_time": "2023-03-22T16:14:43.569Z"
   },
   {
    "duration": 496,
    "start_time": "2023-03-22T16:14:43.893Z"
   },
   {
    "duration": 280,
    "start_time": "2023-03-22T16:14:44.391Z"
   },
   {
    "duration": 391,
    "start_time": "2023-03-22T16:14:44.673Z"
   },
   {
    "duration": 276,
    "start_time": "2023-03-22T16:14:45.067Z"
   },
   {
    "duration": 388,
    "start_time": "2023-03-22T16:14:45.345Z"
   },
   {
    "duration": 220,
    "start_time": "2023-03-22T16:14:45.735Z"
   },
   {
    "duration": 7,
    "start_time": "2023-03-22T16:14:45.957Z"
   },
   {
    "duration": 205,
    "start_time": "2023-03-22T16:14:45.966Z"
   },
   {
    "duration": 9,
    "start_time": "2023-03-22T16:14:46.173Z"
   },
   {
    "duration": 10,
    "start_time": "2023-03-22T16:14:46.184Z"
   },
   {
    "duration": 349,
    "start_time": "2023-03-22T16:14:46.196Z"
   },
   {
    "duration": 128,
    "start_time": "2023-03-22T16:14:46.547Z"
   },
   {
    "duration": 7,
    "start_time": "2023-03-22T16:14:46.677Z"
   },
   {
    "duration": 28,
    "start_time": "2023-03-22T16:14:46.686Z"
   },
   {
    "duration": 11,
    "start_time": "2023-03-22T16:14:46.717Z"
   },
   {
    "duration": 37,
    "start_time": "2023-03-22T16:14:46.730Z"
   },
   {
    "duration": 9,
    "start_time": "2023-03-22T16:14:46.768Z"
   },
   {
    "duration": 10,
    "start_time": "2023-03-22T16:14:46.779Z"
   },
   {
    "duration": 30,
    "start_time": "2023-03-22T16:14:46.791Z"
   },
   {
    "duration": 23,
    "start_time": "2023-03-22T16:14:46.823Z"
   },
   {
    "duration": 22,
    "start_time": "2023-03-22T16:14:46.848Z"
   },
   {
    "duration": 1328,
    "start_time": "2023-03-23T06:52:28.551Z"
   },
   {
    "duration": 3,
    "start_time": "2023-03-23T06:52:29.882Z"
   },
   {
    "duration": 252,
    "start_time": "2023-03-23T06:52:29.887Z"
   },
   {
    "duration": 19,
    "start_time": "2023-03-23T06:52:30.141Z"
   },
   {
    "duration": 44,
    "start_time": "2023-03-23T06:52:30.162Z"
   },
   {
    "duration": 29,
    "start_time": "2023-03-23T06:52:30.207Z"
   },
   {
    "duration": 41,
    "start_time": "2023-03-23T06:52:30.238Z"
   },
   {
    "duration": 57,
    "start_time": "2023-03-23T06:52:30.281Z"
   },
   {
    "duration": 40,
    "start_time": "2023-03-23T06:52:30.340Z"
   },
   {
    "duration": 49,
    "start_time": "2023-03-23T06:52:30.383Z"
   },
   {
    "duration": 332,
    "start_time": "2023-03-23T06:52:30.434Z"
   },
   {
    "duration": 6,
    "start_time": "2023-03-23T06:52:30.768Z"
   },
   {
    "duration": 342,
    "start_time": "2023-03-23T06:52:30.775Z"
   },
   {
    "duration": 369,
    "start_time": "2023-03-23T06:52:31.118Z"
   },
   {
    "duration": 255,
    "start_time": "2023-03-23T06:52:31.489Z"
   },
   {
    "duration": 416,
    "start_time": "2023-03-23T06:52:31.745Z"
   },
   {
    "duration": 304,
    "start_time": "2023-03-23T06:52:32.163Z"
   },
   {
    "duration": 352,
    "start_time": "2023-03-23T06:52:32.469Z"
   },
   {
    "duration": 226,
    "start_time": "2023-03-23T06:52:32.823Z"
   },
   {
    "duration": 8,
    "start_time": "2023-03-23T06:52:33.051Z"
   },
   {
    "duration": 202,
    "start_time": "2023-03-23T06:52:33.061Z"
   },
   {
    "duration": 8,
    "start_time": "2023-03-23T06:52:33.265Z"
   },
   {
    "duration": 16,
    "start_time": "2023-03-23T06:52:33.275Z"
   },
   {
    "duration": 305,
    "start_time": "2023-03-23T06:52:33.293Z"
   },
   {
    "duration": 160,
    "start_time": "2023-03-23T06:52:33.600Z"
   },
   {
    "duration": 7,
    "start_time": "2023-03-23T06:52:33.762Z"
   },
   {
    "duration": 26,
    "start_time": "2023-03-23T06:52:33.771Z"
   },
   {
    "duration": 10,
    "start_time": "2023-03-23T06:52:33.800Z"
   },
   {
    "duration": 10,
    "start_time": "2023-03-23T06:52:33.812Z"
   },
   {
    "duration": 35,
    "start_time": "2023-03-23T06:52:33.824Z"
   },
   {
    "duration": 6,
    "start_time": "2023-03-23T06:52:33.861Z"
   },
   {
    "duration": 13,
    "start_time": "2023-03-23T06:52:33.869Z"
   },
   {
    "duration": 37,
    "start_time": "2023-03-23T06:52:33.884Z"
   },
   {
    "duration": 40,
    "start_time": "2023-03-23T06:52:33.923Z"
   },
   {
    "duration": 1146,
    "start_time": "2023-03-23T06:53:05.185Z"
   },
   {
    "duration": 3,
    "start_time": "2023-03-23T06:53:06.333Z"
   },
   {
    "duration": 121,
    "start_time": "2023-03-23T06:53:06.342Z"
   },
   {
    "duration": 19,
    "start_time": "2023-03-23T06:53:06.465Z"
   },
   {
    "duration": 16,
    "start_time": "2023-03-23T06:53:06.486Z"
   },
   {
    "duration": 10,
    "start_time": "2023-03-23T06:53:06.504Z"
   },
   {
    "duration": 7,
    "start_time": "2023-03-23T06:53:06.515Z"
   },
   {
    "duration": 35,
    "start_time": "2023-03-23T06:53:06.524Z"
   },
   {
    "duration": 11,
    "start_time": "2023-03-23T06:53:06.562Z"
   },
   {
    "duration": 11,
    "start_time": "2023-03-23T06:53:06.575Z"
   },
   {
    "duration": 394,
    "start_time": "2023-03-23T06:53:06.589Z"
   },
   {
    "duration": 6,
    "start_time": "2023-03-23T06:53:06.985Z"
   },
   {
    "duration": 322,
    "start_time": "2023-03-23T06:53:06.993Z"
   },
   {
    "duration": 323,
    "start_time": "2023-03-23T06:53:07.317Z"
   },
   {
    "duration": 243,
    "start_time": "2023-03-23T06:53:07.642Z"
   },
   {
    "duration": 320,
    "start_time": "2023-03-23T06:53:07.887Z"
   },
   {
    "duration": 291,
    "start_time": "2023-03-23T06:53:08.208Z"
   },
   {
    "duration": 325,
    "start_time": "2023-03-23T06:53:08.500Z"
   },
   {
    "duration": 216,
    "start_time": "2023-03-23T06:53:08.826Z"
   },
   {
    "duration": 5,
    "start_time": "2023-03-23T06:53:09.043Z"
   },
   {
    "duration": 207,
    "start_time": "2023-03-23T06:53:09.059Z"
   },
   {
    "duration": 7,
    "start_time": "2023-03-23T06:53:09.268Z"
   },
   {
    "duration": 7,
    "start_time": "2023-03-23T06:53:09.277Z"
   },
   {
    "duration": 310,
    "start_time": "2023-03-23T06:53:09.286Z"
   },
   {
    "duration": 137,
    "start_time": "2023-03-23T06:53:09.598Z"
   },
   {
    "duration": 22,
    "start_time": "2023-03-23T06:53:09.737Z"
   },
   {
    "duration": 23,
    "start_time": "2023-03-23T06:53:09.760Z"
   },
   {
    "duration": 11,
    "start_time": "2023-03-23T06:53:09.787Z"
   },
   {
    "duration": 17,
    "start_time": "2023-03-23T06:53:09.800Z"
   },
   {
    "duration": 22,
    "start_time": "2023-03-23T06:53:09.818Z"
   },
   {
    "duration": 24,
    "start_time": "2023-03-23T06:53:09.841Z"
   },
   {
    "duration": 38,
    "start_time": "2023-03-23T06:53:09.867Z"
   },
   {
    "duration": 44,
    "start_time": "2023-03-23T06:53:09.907Z"
   },
   {
    "duration": 14,
    "start_time": "2023-03-23T06:53:09.952Z"
   },
   {
    "duration": 57,
    "start_time": "2023-04-02T17:08:07.517Z"
   },
   {
    "duration": 1365,
    "start_time": "2023-04-02T17:08:17.582Z"
   },
   {
    "duration": 6,
    "start_time": "2023-04-02T17:08:18.949Z"
   },
   {
    "duration": 255,
    "start_time": "2023-04-02T17:08:18.957Z"
   },
   {
    "duration": 27,
    "start_time": "2023-04-02T17:08:19.214Z"
   },
   {
    "duration": 27,
    "start_time": "2023-04-02T17:08:19.244Z"
   },
   {
    "duration": 8,
    "start_time": "2023-04-02T17:08:19.280Z"
   },
   {
    "duration": 23,
    "start_time": "2023-04-02T17:08:19.290Z"
   },
   {
    "duration": 29,
    "start_time": "2023-04-02T17:08:19.315Z"
   },
   {
    "duration": 13,
    "start_time": "2023-04-02T17:08:19.346Z"
   },
   {
    "duration": 14,
    "start_time": "2023-04-02T17:08:19.361Z"
   },
   {
    "duration": 376,
    "start_time": "2023-04-02T17:08:19.377Z"
   },
   {
    "duration": 14,
    "start_time": "2023-04-02T17:08:19.755Z"
   },
   {
    "duration": 332,
    "start_time": "2023-04-02T17:08:19.775Z"
   },
   {
    "duration": 346,
    "start_time": "2023-04-02T17:08:20.110Z"
   },
   {
    "duration": 268,
    "start_time": "2023-04-02T17:08:20.458Z"
   },
   {
    "duration": 417,
    "start_time": "2023-04-02T17:08:20.728Z"
   },
   {
    "duration": 330,
    "start_time": "2023-04-02T17:08:21.147Z"
   },
   {
    "duration": 365,
    "start_time": "2023-04-02T17:08:21.479Z"
   },
   {
    "duration": 240,
    "start_time": "2023-04-02T17:08:21.846Z"
   },
   {
    "duration": 6,
    "start_time": "2023-04-02T17:08:22.088Z"
   },
   {
    "duration": 222,
    "start_time": "2023-04-02T17:08:22.095Z"
   },
   {
    "duration": 9,
    "start_time": "2023-04-02T17:08:22.319Z"
   },
   {
    "duration": 8,
    "start_time": "2023-04-02T17:08:22.330Z"
   },
   {
    "duration": 341,
    "start_time": "2023-04-02T17:08:22.340Z"
   },
   {
    "duration": 151,
    "start_time": "2023-04-02T17:08:22.682Z"
   },
   {
    "duration": 6,
    "start_time": "2023-04-02T17:08:22.835Z"
   },
   {
    "duration": 47,
    "start_time": "2023-04-02T17:08:22.842Z"
   },
   {
    "duration": 14,
    "start_time": "2023-04-02T17:08:22.891Z"
   },
   {
    "duration": 17,
    "start_time": "2023-04-02T17:08:22.908Z"
   },
   {
    "duration": 11,
    "start_time": "2023-04-02T17:08:22.926Z"
   },
   {
    "duration": 20,
    "start_time": "2023-04-02T17:08:22.939Z"
   },
   {
    "duration": 23,
    "start_time": "2023-04-02T17:08:22.960Z"
   },
   {
    "duration": 49,
    "start_time": "2023-04-02T17:08:22.985Z"
   },
   {
    "duration": 13,
    "start_time": "2023-04-02T17:08:23.036Z"
   }
  ],
  "colab": {
   "provenance": []
  },
  "kernelspec": {
   "display_name": "Python 3 (ipykernel)",
   "language": "python",
   "name": "python3"
  },
  "language_info": {
   "codemirror_mode": {
    "name": "ipython",
    "version": 3
   },
   "file_extension": ".py",
   "mimetype": "text/x-python",
   "name": "python",
   "nbconvert_exporter": "python",
   "pygments_lexer": "ipython3",
   "version": "3.9.5"
  },
  "toc": {
   "base_numbering": 1,
   "nav_menu": {},
   "number_sections": true,
   "sideBar": true,
   "skip_h1_title": true,
   "title_cell": "Table of Contents",
   "title_sidebar": "Contents",
   "toc_cell": false,
   "toc_position": {},
   "toc_section_display": true,
   "toc_window_display": true
  }
 },
 "nbformat": 4,
 "nbformat_minor": 1
}
