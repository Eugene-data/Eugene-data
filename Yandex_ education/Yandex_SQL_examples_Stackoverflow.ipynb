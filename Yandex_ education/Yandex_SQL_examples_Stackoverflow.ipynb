{
 "cells": [
  {
   "cell_type": "markdown",
   "metadata": {
    "id": "GXogQLuetUWW"
   },
   "source": [
    "<div style=\"padding:0px 40px 30px; \n",
    "            color:#201E20;\n",
    "            font-size:110%;\n",
    "            display:fill;\n",
    "            border-radius:20px;\n",
    "            border: 5px double;\n",
    "            border-color:#201E20;\n",
    "            background-color: #FFBD69;\n",
    "            overflow:hidden;\n",
    "            font-weight:450;\"> \n",
    "<br>\n",
    "<h1 style = \"text-align:center;font-size:20px;\">Задачи SQL по базе данных StackOverflow  </h1>  \n",
    "\n",
    "Будем работать с базой данных StackOverflow — сервиса вопросов и ответов о программировании.   \n",
    "    \n",
    "https://pictures.s3.yandex.net/resources/Frame_353_1_1664969443.png - диаграмма базы данных\n",
    "\n",
    "    \n",
    "<h1 style = \"text-align:center;font-size:20px;\">Part 1 </h1>\n",
    "</div>\n",
    "\n"
   ]
  },
  {
   "cell_type": "code",
   "execution_count": null,
   "metadata": {
    "id": "iAOVygshFCj0"
   },
   "outputs": [],
   "source": [
    "# 1.Найдите количество вопросов, которые набрали больше 300 очков или как минимум 100 раз были добавлены в «Закладки»."
   ]
  },
  {
   "cell_type": "code",
   "execution_count": null,
   "metadata": {
    "id": "qqe4sflvFZZc"
   },
   "outputs": [],
   "source": [
    "'''\n",
    "SELECT count(*)\n",
    "FROM stackoverflow.posts as p\n",
    "JOIN stackoverflow.post_types as pt on pt.id = p.post_type_id\n",
    "WHERE type = 'Question' and (score > 300 or favorites_count >= 100)\n",
    "'''"
   ]
  },
  {
   "cell_type": "code",
   "execution_count": null,
   "metadata": {
    "id": "VDhOWIghFlFq"
   },
   "outputs": [],
   "source": [
    "# 2.Сколько в среднем в день задавали вопросов с 1 по 18 ноября 2008 включительно? Результат округлите до целого числа."
   ]
  },
  {
   "cell_type": "code",
   "execution_count": null,
   "metadata": {
    "id": "vCL0SH8xFlZk"
   },
   "outputs": [],
   "source": [
    "'''\n",
    "SELECT ROUND(AVG(t.count),0)\n",
    "FROM (\n",
    "      SELECT COUNT(id),\n",
    "             creation_date::date\n",
    "      FROM stackoverflow.posts\n",
    "      WHERE post_type_id = 1\n",
    "      GROUP BY creation_date::date\n",
    "      HAVING creation_date::date BETWEEN '2008-11-01' AND '2008-11-18') AS t;\n",
    "'''"
   ]
  },
  {
   "cell_type": "code",
   "execution_count": null,
   "metadata": {
    "id": "GoGqE05yFlhr"
   },
   "outputs": [],
   "source": [
    "# 3. Сколько пользователей получили значки сразу в день регистрации? Выведите количество уникальных пользователей."
   ]
  },
  {
   "cell_type": "code",
   "execution_count": null,
   "metadata": {
    "id": "f8atVz_AFloj"
   },
   "outputs": [],
   "source": [
    "'''\n",
    "SELECT count(distinct u.id)\n",
    "FROM stackoverflow.badges as b\n",
    "RIGHT JOIN stackoverflow.users as u on b.user_id = u.id\n",
    "WHERE b.creation_date::date = u.creation_date::date\n",
    "'''"
   ]
  },
  {
   "cell_type": "code",
   "execution_count": null,
   "metadata": {
    "id": "ZLyzUoWxFltB"
   },
   "outputs": [],
   "source": [
    "# 4.Сколько уникальных постов пользователя с именем Joel Coehoorn получили хотя бы один голос?"
   ]
  },
  {
   "cell_type": "code",
   "execution_count": null,
   "metadata": {
    "id": "5_K7ZtTiFlxw"
   },
   "outputs": [],
   "source": [
    "'''\n",
    "SELECT COUNT(t.id)\n",
    "FROM (\n",
    "     SELECT p.id\n",
    "     FROM stackoverflow.posts AS p\n",
    "     JOIN stackoverflow.votes AS v ON p.id = v.post_id\n",
    "     JOIN stackoverflow.users AS u ON p.user_id = u.id\n",
    "     WHERE u.display_name LIKE 'Joel Coehoorn'\n",
    "     GROUP BY p.id\n",
    "     HAVING COUNT(v.id)>=1) as t;\n",
    "'''"
   ]
  },
  {
   "cell_type": "code",
   "execution_count": null,
   "metadata": {
    "id": "i-zBfxDXFl11"
   },
   "outputs": [],
   "source": [
    "# 5.Выгрузите все поля таблицы vote_types. Добавьте к таблице поле rank, в которое войдут номера записей в обратном порядке. Таблица должна быть отсортирована по полю id."
   ]
  },
  {
   "cell_type": "code",
   "execution_count": null,
   "metadata": {
    "id": "5XLI-ylCFl5x"
   },
   "outputs": [],
   "source": [
    "'''\n",
    "SELECT * ,row_number() over (order by id desc)\n",
    "FROM stackoverflow.vote_types\n",
    "ORDER BY id\n",
    "'''"
   ]
  },
  {
   "cell_type": "code",
   "execution_count": null,
   "metadata": {
    "id": "hZaicfY0Fl9_"
   },
   "outputs": [],
   "source": [
    "# 6.Отберите 10 пользователей, которые поставили больше всего голосов типа Close. Отобразите таблицу из двух полей: идентификатором пользователя и количеством голосов. \n",
    "# Отсортируйте данные сначала по убыванию количества голосов, потом по убыванию значения идентификатора пользователя."
   ]
  },
  {
   "cell_type": "code",
   "execution_count": null,
   "metadata": {
    "id": "VS_AFSR9G0Jq"
   },
   "outputs": [],
   "source": [
    "'''\n",
    "SELECT *\n",
    "FROM (\n",
    "      SELECT v.user_id,\n",
    "             COUNT(vt.id) AS cnt\n",
    "      FROM stackoverflow.votes AS v\n",
    "      JOIN stackoverflow.vote_types as vt ON vt.id = v.vote_type_id\n",
    "      WHERE vt.name LIKE 'Close'\n",
    "      GROUP BY v.user_id\n",
    "      ORDER BY cnt DESC LIMIT 10\n",
    "    ) AS t\n",
    "ORDER BY t.cnt DESC, t.user_id DESC;\n",
    "'''"
   ]
  },
  {
   "cell_type": "code",
   "execution_count": null,
   "metadata": {
    "id": "vEaqkp19G0Ws"
   },
   "outputs": [],
   "source": [
    "# 7.Отберите 10 пользователей по количеству значков, полученных в период с 15 ноября по 15 декабря 2008 года включительно.\n",
    "# Отобразите несколько полей:\n",
    "# идентификатор пользователя;\n",
    "# число значков;\n",
    "# место в рейтинге — чем больше значков, тем выше рейтинг.\n",
    "# Пользователям, которые набрали одинаковое количество значков, присвойте одно и то же место в рейтинге.\n",
    "# Отсортируйте записи по количеству значков по убыванию, а затем по возрастанию значения идентификатора пользователя."
   ]
  },
  {
   "cell_type": "code",
   "execution_count": null,
   "metadata": {
    "id": "ASE733LiG06C"
   },
   "outputs": [],
   "source": [
    "'''\n",
    "SELECT *,\n",
    "      DENSE_RANK() OVER (ORDER BY t.cnt DESC) AS n\n",
    "FROM (\n",
    "SELECT u.id, count(b.id) as cnt\n",
    "FROM stackoverflow.users as u\n",
    "LEFT JOIN stackoverflow.badges as b on u.id = b.user_id\n",
    "WHERE b.creation_date::date between '2008-11-15' and '2008-12-15'\n",
    "GROUP BY u.id\n",
    "ORDER BY cnt DESC, u.id LIMIT 10) as t\n",
    "'''"
   ]
  },
  {
   "cell_type": "code",
   "execution_count": null,
   "metadata": {
    "id": "BgFZI8ZDG1Ew"
   },
   "outputs": [],
   "source": [
    "# 8.Сколько в среднем очков получает пост каждого пользователя?\n",
    "# Сформируйте таблицу из следующих полей:\n",
    "# заголовок поста;\n",
    "# идентификатор пользователя;\n",
    "# число очков поста;\n",
    "# среднее число очков пользователя за пост, округлённое до целого числа.\n",
    "# Не учитывайте посты без заголовка, а также те, что набрали ноль очков."
   ]
  },
  {
   "cell_type": "code",
   "execution_count": null,
   "metadata": {
    "id": "pj9Vq-bKG1Md"
   },
   "outputs": [],
   "source": [
    "'''\n",
    "SELECT title, user_id, score, round(AVG(score) OVER (PARTITION BY user_id)) AS user_avg\n",
    "FROM stackoverflow.posts\n",
    "WHERE title IS NOT NULL and score <> 0\n",
    "'''"
   ]
  },
  {
   "cell_type": "code",
   "execution_count": null,
   "metadata": {
    "id": "fEUUqx9rG1UI"
   },
   "outputs": [],
   "source": [
    "# 9.Отобразите заголовки постов, которые были написаны пользователями, получившими более 1000 значков. Посты без заголовков не должны попасть в список."
   ]
  },
  {
   "cell_type": "code",
   "execution_count": null,
   "metadata": {
    "id": "mrWjowfGG1af"
   },
   "outputs": [],
   "source": [
    "'''\n",
    "SELECT title\n",
    "FROM stackoverflow.posts\n",
    "WHERE user_id in\n",
    "(SELECT user_id\n",
    "                  FROM stackoverflow.badges\n",
    "                  GROUP BY user_id\n",
    "                  HAVING COUNT(id) >1000)\n",
    "AND title IS NOT NULL\n",
    "'''"
   ]
  },
  {
   "cell_type": "code",
   "execution_count": null,
   "metadata": {
    "id": "qeEoHZKPH5Od"
   },
   "outputs": [],
   "source": [
    "# 10.Напишите запрос, который выгрузит данные о пользователях из США (англ. United States). Разделите пользователей на три группы в зависимости от количества просмотров их профилей:\n",
    "# пользователям с числом просмотров больше либо равным 350 присвойте группу 1;\n",
    "# пользователям с числом просмотров меньше 350, но больше либо равно 100 — группу 2;\n",
    "# пользователям с числом просмотров меньше 100 — группу 3.\n",
    "# Отобразите в итоговой таблице идентификатор пользователя, количество просмотров профиля и группу. Пользователи с нулевым количеством просмотров не должны войти в итоговую таблицу."
   ]
  },
  {
   "cell_type": "code",
   "execution_count": null,
   "metadata": {
    "id": "GjUVSJv7H5W3"
   },
   "outputs": [],
   "source": [
    "'''\n",
    "SELECT id,\n",
    "       views,\n",
    "       CASE\n",
    "          WHEN views>=350 THEN 1\n",
    "          WHEN views<100 THEN 3\n",
    "          ELSE 2\n",
    "       END AS group\n",
    "FROM stackoverflow.users\n",
    "WHERE location LIKE '%United States%'\n",
    "   AND views > 0;\n",
    "'''"
   ]
  },
  {
   "cell_type": "code",
   "execution_count": null,
   "metadata": {
    "id": "QwoioCl4H5cp"
   },
   "outputs": [],
   "source": [
    "# 11.Дополните предыдущий запрос. Отобразите лидеров каждой группы — пользователей, которые набрали максимальное число просмотров в своей группе. \n",
    "# Выведите поля с идентификатором пользователя, группой и количеством просмотров. Отсортируйте таблицу по убыванию просмотров, а затем по возрастанию значения идентификатора."
   ]
  },
  {
   "cell_type": "code",
   "execution_count": null,
   "metadata": {
    "id": "C80_4lnoH5j1"
   },
   "outputs": [],
   "source": [
    "'''\n",
    "WITH tab as\n",
    "(SELECT t.id, t.views, t.group, max(t.views) over(partition by t.group) AS max\n",
    "FROM\n",
    "(SELECT id,\n",
    "       views,\n",
    "       CASE\n",
    "          WHEN views>=350 THEN 1\n",
    "          WHEN views<100 THEN 3\n",
    "          ELSE 2\n",
    "       END AS group\n",
    "FROM stackoverflow.users\n",
    "WHERE location LIKE '%United States%'\n",
    "   AND views > 0) as t)\n",
    "SELECT tab.id, \n",
    "       tab.views,  \n",
    "       tab.group\n",
    "FROM tab\n",
    "WHERE tab.views = tab.max\n",
    "ORDER BY tab.views DESC, tab.id;\n",
    "'''"
   ]
  },
  {
   "cell_type": "code",
   "execution_count": null,
   "metadata": {
    "id": "5nPB3PQ9H5qX"
   },
   "outputs": [],
   "source": [
    "# 12.Посчитайте ежедневный прирост новых пользователей в ноябре 2008 года. Сформируйте таблицу с полями:\n",
    "# номер дня;\n",
    "# число пользователей, зарегистрированных в этот день;\n",
    "# сумму пользователей с накоплением"
   ]
  },
  {
   "cell_type": "code",
   "execution_count": null,
   "metadata": {
    "id": "zK4lAnZjIevZ"
   },
   "outputs": [],
   "source": [
    "'''\n",
    "SELECT *, sum(creatdate) over(order by day_number)\n",
    "FROM\n",
    "(SELECT EXTRACT(DAY FROM creation_date::date) as day_number,\n",
    "       count(creation_date) as creatdate\n",
    "FROMstackoverflow.users\n",
    "WHERE creation_date::date between '2008-11-01' and '2008-11-30'\n",
    "GROUP BYy day_number) as t\n",
    "'''"
   ]
  },
  {
   "cell_type": "code",
   "execution_count": null,
   "metadata": {
    "id": "XDmz32E7IfEC"
   },
   "outputs": [],
   "source": [
    "# 13. Для каждого пользователя, который написал хотя бы один пост, найдите интервал между регистрацией и временем создания первого поста. Отобразите:\n",
    "# идентификатор пользователя;\n",
    "# разницу во времени между регистрацией и первым постом."
   ]
  },
  {
   "cell_type": "code",
   "execution_count": null,
   "metadata": {
    "id": "5BcaW43EIfKw"
   },
   "outputs": [],
   "source": [
    "'''\n",
    "WITH p AS\n",
    "(SELECT DISTINCT user_id,\n",
    "        MIN(creation_date) OVER (PARTITION BY user_id) AS min_dt\t\t\t\t\t\n",
    " FROM stackoverflow.posts\n",
    ")\n",
    "SELECT p.user_id,\n",
    "       (p.min_dt - u.creation_date) AS diff\n",
    "FROM stackoverflow.users AS u \n",
    "JOIN p ON  u.id = p.user_id;\n",
    "'''"
   ]
  },
  {
   "cell_type": "markdown",
   "metadata": {},
   "source": [
    "<div style=\"padding:0px 40px 30px; \n",
    "            color:#201E20;\n",
    "            font-size:110%;\n",
    "            display:fill;\n",
    "            border-radius:20px;\n",
    "            border: 5px double;\n",
    "            border-color:#201E20;\n",
    "            background-color: #FFBD69;\n",
    "            overflow:hidden;\n",
    "            font-weight:450;\"> \n",
    "    \n",
    "    \n",
    "<h1 style = \"text-align:center;font-size:20px;\">Part 2 </h1>\n",
    "</div>"
   ]
  },
  {
   "cell_type": "markdown",
   "metadata": {
    "id": "ABDivAB9tE0f"
   },
   "source": [
    "###part 2"
   ]
  },
  {
   "cell_type": "code",
   "execution_count": null,
   "metadata": {
    "id": "i7zmm99GrLHr"
   },
   "outputs": [],
   "source": [
    "part 2\n",
    "# 1.Выведите общую сумму просмотров постов за каждый месяц 2008 года. Если данных за какой-либо месяц в базе нет, такой месяц можно пропустить. \n",
    "# Результат отсортируйте по убыванию общего количества просмотров"
   ]
  },
  {
   "cell_type": "code",
   "execution_count": null,
   "metadata": {
    "id": "wN-k7phhrVWB"
   },
   "outputs": [],
   "source": [
    "'''\n",
    "SELECT SUM(views_count),\n",
    "       DATE_TRUNC('month', creation_date)::date AS mnth\n",
    "FROM stackoverflow.posts\n",
    "GROUP BY DATE_TRUNC('month', creation_date)::date\n",
    "ORDER BY SUM(views_count) DESC;\n",
    "'''"
   ]
  },
  {
   "cell_type": "code",
   "execution_count": null,
   "metadata": {
    "id": "G9HFKh3prZm2"
   },
   "outputs": [],
   "source": [
    "# 2.Выведите имена самых активных пользователей, которые в первый месяц после регистрации (включая день регистрации) дали больше 100 ответов. Вопросы, которые задавали пользователи, не учитывайте. \n",
    "# Для каждого имени пользователя выведите количество уникальных значений user_id. Отсортируйте результат по полю с именами в лексикографическом порядке."
   ]
  },
  {
   "cell_type": "code",
   "execution_count": null,
   "metadata": {
    "id": "NnGzi1rVrZv1"
   },
   "outputs": [],
   "source": [
    "'''\n",
    "SELECT u.display_name,\n",
    "       COUNT(DISTINCT p.user_id)\n",
    "FROM stackoverflow.posts AS p\n",
    "JOIN stackoverflow.users AS u ON p.user_id = u.id\n",
    "JOIN stackoverflow.post_types AS pt ON pt.id = p.post_type_id\n",
    "WHERE p.creation_date::date BETWEEN u.creation_date::date AND (u.creation_date::date + INTERVAL '1 month')\n",
    "   AND pt.type LIKE '%Answer%'\n",
    "GROUP BY u.display_name\n",
    "HAVING COUNT(p.id) > 100\n",
    "ORDER BY u.display_name;\n",
    "'''"
   ]
  },
  {
   "cell_type": "code",
   "execution_count": null,
   "metadata": {
    "id": "QGd-1kBKrznL"
   },
   "outputs": [],
   "source": [
    "# 3.Выведите количество постов за 2008 год по месяцам. Отберите посты от пользователей, которые зарегистрировались в сентябре 2008 года и сделали хотя бы один пост в декабре того же года. \n",
    "# Отсортируйте таблицу по значению месяца по убыванию."
   ]
  },
  {
   "cell_type": "code",
   "execution_count": null,
   "metadata": {
    "id": "kqq9MVBrrZ2F"
   },
   "outputs": [],
   "source": [
    "'''\n",
    "WITH t AS (\n",
    "           SELECT u.id\n",
    "           FROM stackoverflow.posts AS p\n",
    "           JOIN stackoverflow.users AS u ON p.user_id = u.id\n",
    "           WHERE DATE_TRUNC('month', u.creation_date)::date = '2008-09-01'\n",
    "              AND DATE_TRUNC('month', p.creation_date)::date = '2008-12-01'\n",
    "           GROUP BY u.id\n",
    "           HAVING COUNT(p.id)>0\n",
    "          )\n",
    "\n",
    "SELECT COUNT(p.id),\n",
    "       DATE_TRUNC('month', p.creation_date)::date      \n",
    "FROM stackoverflow.posts AS p\n",
    "WHERE p.user_id IN (SELECT * FROM t)\n",
    "   AND DATE_TRUNC('year', p.creation_date)::date = '2008-01-01'\n",
    "GROUP BY DATE_TRUNC('month', p.creation_date)::date\n",
    "ORDER BY DATE_TRUNC('month', p.creation_date)::date DESC;\n",
    "'''"
   ]
  },
  {
   "cell_type": "code",
   "execution_count": null,
   "metadata": {
    "id": "peSBJ0pjrZ6t"
   },
   "outputs": [],
   "source": [
    "# 4.Используя данные о постах, выведите несколько полей:\n",
    "# идентификатор пользователя, который написал пост;\n",
    "# дата создания поста;\n",
    "# количество просмотров у текущего поста;\n",
    "# сумму просмотров постов автора с накоплением.\n",
    "# Данные в таблице должны быть отсортированы по возрастанию идентификаторов пользователей, а данные об одном и том же пользователе — по возрастанию даты создания поста."
   ]
  },
  {
   "cell_type": "code",
   "execution_count": null,
   "metadata": {
    "id": "ITWFJwnarZ-T"
   },
   "outputs": [],
   "source": [
    "'''\n",
    "SELECT user_id,\n",
    "       creation_date,\n",
    "       views_count,\n",
    "       SUM(views_count) OVER (PARTITION BY user_id ORDER BY creation_date)\t\t\t\t\t\t\n",
    "FROM stackoverflow.posts;\n",
    "'''"
   ]
  },
  {
   "cell_type": "code",
   "execution_count": null,
   "metadata": {
    "id": "W-AnxvFOraBn"
   },
   "outputs": [],
   "source": [
    "# 5.Сколько в среднем дней в период с 1 по 7 декабря 2008 года включительно пользователи взаимодействовали с платформой? \n",
    "# Для каждого пользователя отберите дни, в которые он или она опубликовали хотя бы один пост. Нужно получить одно целое число — не забудьте округлить результат."
   ]
  },
  {
   "cell_type": "code",
   "execution_count": null,
   "metadata": {
    "id": "NAV562UCraEx"
   },
   "outputs": [],
   "source": [
    "'''\n",
    "SELECT ROUND(AVG(t.cnt))\n",
    "FROM (\n",
    "      SELECT user_id,\n",
    "             COUNT(DISTINCT creation_date::date)  AS cnt\n",
    "      FROM stackoverflow.posts\n",
    "      WHERE creation_date::date BETWEEN '2008-12-01' AND '2008-12-07' \n",
    "      GROUP BY user_id\n",
    ") AS t\n",
    "'''"
   ]
  },
  {
   "cell_type": "code",
   "execution_count": null,
   "metadata": {
    "id": "iIVkJk1EraH6"
   },
   "outputs": [],
   "source": [
    "# 6.На сколько процентов менялось количество постов ежемесячно с 1 сентября по 31 декабря 2008 года? Отобразите таблицу со следующими полями:\n",
    "# номер месяца;\n",
    "# количество постов за месяц;\n",
    "# процент, который показывает, насколько изменилось количество постов в текущем месяце по сравнению с предыдущим.\n",
    "# Если постов стало меньше, значение процента должно быть отрицательным, если больше — положительным. Округлите значение процента до двух знаков после запятой.\n",
    "# Напомним, что при делении одного целого числа на другое в PostgreSQL в результате получится целое число, округлённое до ближайшего целого вниз. Чтобы этого избежать, переведите делимое в тип numeric."
   ]
  },
  {
   "cell_type": "code",
   "execution_count": null,
   "metadata": {
    "id": "znjee3TTraLA"
   },
   "outputs": [],
   "source": [
    "'''\n",
    "WITH t AS\n",
    "(\n",
    "    SELECT extract(MONTH from creation_date::date) as ac_month, count(id) as users_cnt\n",
    "FROM stackoverflow.posts\n",
    "WHERE creation_date::date between '2008-09-01' and '2008-12-31'\n",
    "GROUP BY ac_month\n",
    ")\n",
    "SELECT *,\n",
    "round((users_cnt::numeric / LAG(users_cnt, 1) OVER (ORDER BY ac_month) - 1) * 100, 2) \n",
    "FROM t; \n",
    "'''"
   ]
  },
  {
   "cell_type": "code",
   "execution_count": null,
   "metadata": {
    "id": "Hb8LwWBJrb4q"
   },
   "outputs": [],
   "source": [
    "# 7.Выгрузите данные активности пользователя, который опубликовал больше всего постов за всё время. Выведите данные за октябрь 2008 года в таком виде:\n",
    "# номер недели;\n",
    "# дата и время последнего поста, опубликованного на этой неделе.\n",
    "\n",
    "# Декомпозируйте задачу:\n",
    "# Найдите пользователя, который опубликовал больше всего постов.\n",
    "# Найдите дату и время создания каждого поста этого пользователя и номер недели.\n",
    "# Отобразите данные только о последних постах пользователя. Для этого можно использовать оконную функцию.\n"
   ]
  },
  {
   "cell_type": "code",
   "execution_count": null,
   "metadata": {
    "id": "HHnXVh7fraN9"
   },
   "outputs": [],
   "source": [
    "'''\n",
    "WITH t AS (\n",
    "SELECT user_id,\n",
    "       COUNT(DISTINCT id) AS cnt\n",
    "FROM stackoverflow.posts\n",
    "GROUP BY user_id\n",
    "ORDER BY cnt DESC\n",
    "LIMIT 1),\n",
    "     t1 AS (\n",
    "SELECT p.user_id,\n",
    "       p.creation_date,\n",
    "       extract('week' from p.creation_date) AS week_number\n",
    "FROM stackoverflow.posts AS p\n",
    "JOIN t ON t.user_id = p.user_id\n",
    "WHERE DATE_TRUNC('month', p.creation_date)::date = '2008-10-01'\n",
    "           )\n",
    "SELECT DISTINCT week_number::numeric,\n",
    "       MAX(creation_date) OVER (PARTITION BY week_number)\n",
    "FROM t1\n",
    "ORDER BY week_number;\n",
    "'''"
   ]
  }
 ],
 "metadata": {
  "colab": {
   "provenance": []
  },
  "kernelspec": {
   "display_name": "Python 3 (ipykernel)",
   "language": "python",
   "name": "python3"
  },
  "language_info": {
   "codemirror_mode": {
    "name": "ipython",
    "version": 3
   },
   "file_extension": ".py",
   "mimetype": "text/x-python",
   "name": "python",
   "nbconvert_exporter": "python",
   "pygments_lexer": "ipython3",
   "version": "3.9.13"
  }
 },
 "nbformat": 4,
 "nbformat_minor": 1
}
